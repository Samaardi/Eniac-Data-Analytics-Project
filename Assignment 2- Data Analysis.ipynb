{
 "cells": [
  {
   "cell_type": "code",
   "execution_count": 1,
   "id": "c1c6da38",
   "metadata": {},
   "outputs": [],
   "source": [
    "import pandas as pd\n",
    "import warnings\n",
    "warnings.filterwarnings(\"ignore\")\n",
    "import seaborn as sns\n",
    "import matplotlib.pyplot as plt\n"
   ]
  },
  {
   "cell_type": "code",
   "execution_count": 2,
   "id": "9991998d",
   "metadata": {},
   "outputs": [],
   "source": [
    "# read csv files and make a copy to not manipulate original data\n",
    "products = pd.read_csv(r\"products.csv\")\n",
    "orders = pd.read_csv(r\"orders.csv\")\n",
    "orderlines = pd.read_csv(r\"orderlines.csv\")\n",
    "brands = pd.read_csv(r\"brands.csv\")\n",
    "ol_df = orderlines.copy()\n",
    "products_df = products.copy()\n",
    "orders_df = orders.copy()\n",
    "brands_df = brands.copy()"
   ]
  },
  {
   "cell_type": "code",
   "execution_count": 3,
   "id": "9574bb9f",
   "metadata": {},
   "outputs": [
    {
     "data": {
      "text/html": [
       "<div>\n",
       "<style scoped>\n",
       "    .dataframe tbody tr th:only-of-type {\n",
       "        vertical-align: middle;\n",
       "    }\n",
       "\n",
       "    .dataframe tbody tr th {\n",
       "        vertical-align: top;\n",
       "    }\n",
       "\n",
       "    .dataframe thead th {\n",
       "        text-align: right;\n",
       "    }\n",
       "</style>\n",
       "<table border=\"1\" class=\"dataframe\">\n",
       "  <thead>\n",
       "    <tr style=\"text-align: right;\">\n",
       "      <th></th>\n",
       "      <th>order_id</th>\n",
       "      <th>created_date</th>\n",
       "      <th>total_paid</th>\n",
       "      <th>state</th>\n",
       "    </tr>\n",
       "  </thead>\n",
       "  <tbody>\n",
       "    <tr>\n",
       "      <th>0</th>\n",
       "      <td>241319</td>\n",
       "      <td>2017-01-02 13:35:40</td>\n",
       "      <td>44.99</td>\n",
       "      <td>Cancelled</td>\n",
       "    </tr>\n",
       "    <tr>\n",
       "      <th>1</th>\n",
       "      <td>241423</td>\n",
       "      <td>2017-11-06 13:10:02</td>\n",
       "      <td>136.15</td>\n",
       "      <td>Completed</td>\n",
       "    </tr>\n",
       "    <tr>\n",
       "      <th>2</th>\n",
       "      <td>242832</td>\n",
       "      <td>2017-12-31 17:40:03</td>\n",
       "      <td>15.76</td>\n",
       "      <td>Completed</td>\n",
       "    </tr>\n",
       "    <tr>\n",
       "      <th>3</th>\n",
       "      <td>243330</td>\n",
       "      <td>2017-02-16 10:59:38</td>\n",
       "      <td>84.98</td>\n",
       "      <td>Completed</td>\n",
       "    </tr>\n",
       "    <tr>\n",
       "      <th>4</th>\n",
       "      <td>243784</td>\n",
       "      <td>2017-11-24 13:35:19</td>\n",
       "      <td>157.86</td>\n",
       "      <td>Cancelled</td>\n",
       "    </tr>\n",
       "  </tbody>\n",
       "</table>\n",
       "</div>"
      ],
      "text/plain": [
       "   order_id         created_date  total_paid      state\n",
       "0    241319  2017-01-02 13:35:40       44.99  Cancelled\n",
       "1    241423  2017-11-06 13:10:02      136.15  Completed\n",
       "2    242832  2017-12-31 17:40:03       15.76  Completed\n",
       "3    243330  2017-02-16 10:59:38       84.98  Completed\n",
       "4    243784  2017-11-24 13:35:19      157.86  Cancelled"
      ]
     },
     "execution_count": 3,
     "metadata": {},
     "output_type": "execute_result"
    }
   ],
   "source": [
    "orders_df.head()"
   ]
  },
  {
   "cell_type": "code",
   "execution_count": 4,
   "id": "67d08794",
   "metadata": {},
   "outputs": [
    {
     "data": {
      "text/plain": [
       "0"
      ]
     },
     "execution_count": 4,
     "metadata": {},
     "output_type": "execute_result"
    }
   ],
   "source": [
    "orders_df.duplicated().sum()"
   ]
  },
  {
   "cell_type": "code",
   "execution_count": 5,
   "id": "41a1d2bc",
   "metadata": {},
   "outputs": [
    {
     "name": "stdout",
     "output_type": "stream",
     "text": [
      "<class 'pandas.core.frame.DataFrame'>\n",
      "RangeIndex: 226909 entries, 0 to 226908\n",
      "Data columns (total 4 columns):\n",
      " #   Column        Non-Null Count   Dtype  \n",
      "---  ------        --------------   -----  \n",
      " 0   order_id      226909 non-null  int64  \n",
      " 1   created_date  226909 non-null  object \n",
      " 2   total_paid    226904 non-null  float64\n",
      " 3   state         226909 non-null  object \n",
      "dtypes: float64(1), int64(1), object(2)\n",
      "memory usage: 6.9+ MB\n"
     ]
    }
   ],
   "source": [
    "orders_df.info()"
   ]
  },
  {
   "cell_type": "markdown",
   "id": "afa3b08b",
   "metadata": {},
   "source": [
    "* ### we have 5 missing values in *total_paid*\n",
    "* ### we have to change created_date to datetime\n",
    "* ### there is no duplicated rows"
   ]
  },
  {
   "cell_type": "code",
   "execution_count": 6,
   "id": "2785d9b9",
   "metadata": {},
   "outputs": [
    {
     "data": {
      "text/plain": [
       "total_paid\n",
       "False    0.999978\n",
       "True     0.000022\n",
       "Name: proportion, dtype: float64"
      ]
     },
     "execution_count": 6,
     "metadata": {},
     "output_type": "execute_result"
    }
   ],
   "source": [
    "# find the proportion of NaN values\n",
    "orders_df['total_paid'].isna().value_counts(normalize=True)"
   ]
  },
  {
   "cell_type": "code",
   "execution_count": 7,
   "id": "f6279f66",
   "metadata": {},
   "outputs": [],
   "source": [
    "# removing 5 rows with missing values \n",
    "orders_df = orders_df.loc[~orders_df['total_paid'].isna() , :]"
   ]
  },
  {
   "cell_type": "code",
   "execution_count": 8,
   "id": "2655112e",
   "metadata": {},
   "outputs": [],
   "source": [
    "# convert object type to datetime\n",
    "orders_df['created_date'] = pd.to_datetime(orders_df['created_date'])"
   ]
  },
  {
   "cell_type": "code",
   "execution_count": null,
   "id": "bf40d462",
   "metadata": {},
   "outputs": [],
   "source": []
  },
  {
   "cell_type": "code",
   "execution_count": 9,
   "id": "19628c65",
   "metadata": {},
   "outputs": [
    {
     "data": {
      "text/html": [
       "<div>\n",
       "<style scoped>\n",
       "    .dataframe tbody tr th:only-of-type {\n",
       "        vertical-align: middle;\n",
       "    }\n",
       "\n",
       "    .dataframe tbody tr th {\n",
       "        vertical-align: top;\n",
       "    }\n",
       "\n",
       "    .dataframe thead th {\n",
       "        text-align: right;\n",
       "    }\n",
       "</style>\n",
       "<table border=\"1\" class=\"dataframe\">\n",
       "  <thead>\n",
       "    <tr style=\"text-align: right;\">\n",
       "      <th></th>\n",
       "      <th>id</th>\n",
       "      <th>id_order</th>\n",
       "      <th>product_id</th>\n",
       "      <th>product_quantity</th>\n",
       "      <th>sku</th>\n",
       "      <th>unit_price</th>\n",
       "      <th>date</th>\n",
       "    </tr>\n",
       "  </thead>\n",
       "  <tbody>\n",
       "    <tr>\n",
       "      <th>0</th>\n",
       "      <td>1119109</td>\n",
       "      <td>299539</td>\n",
       "      <td>0</td>\n",
       "      <td>1</td>\n",
       "      <td>OTT0133</td>\n",
       "      <td>18.99</td>\n",
       "      <td>2017-01-01 00:07:19</td>\n",
       "    </tr>\n",
       "    <tr>\n",
       "      <th>1</th>\n",
       "      <td>1119110</td>\n",
       "      <td>299540</td>\n",
       "      <td>0</td>\n",
       "      <td>1</td>\n",
       "      <td>LGE0043</td>\n",
       "      <td>399.00</td>\n",
       "      <td>2017-01-01 00:19:45</td>\n",
       "    </tr>\n",
       "    <tr>\n",
       "      <th>2</th>\n",
       "      <td>1119111</td>\n",
       "      <td>299541</td>\n",
       "      <td>0</td>\n",
       "      <td>1</td>\n",
       "      <td>PAR0071</td>\n",
       "      <td>474.05</td>\n",
       "      <td>2017-01-01 00:20:57</td>\n",
       "    </tr>\n",
       "    <tr>\n",
       "      <th>3</th>\n",
       "      <td>1119112</td>\n",
       "      <td>299542</td>\n",
       "      <td>0</td>\n",
       "      <td>1</td>\n",
       "      <td>WDT0315</td>\n",
       "      <td>68.39</td>\n",
       "      <td>2017-01-01 00:51:40</td>\n",
       "    </tr>\n",
       "    <tr>\n",
       "      <th>4</th>\n",
       "      <td>1119113</td>\n",
       "      <td>299543</td>\n",
       "      <td>0</td>\n",
       "      <td>1</td>\n",
       "      <td>JBL0104</td>\n",
       "      <td>23.74</td>\n",
       "      <td>2017-01-01 01:06:38</td>\n",
       "    </tr>\n",
       "  </tbody>\n",
       "</table>\n",
       "</div>"
      ],
      "text/plain": [
       "        id  id_order  product_id  product_quantity      sku unit_price  \\\n",
       "0  1119109    299539           0                 1  OTT0133      18.99   \n",
       "1  1119110    299540           0                 1  LGE0043     399.00   \n",
       "2  1119111    299541           0                 1  PAR0071     474.05   \n",
       "3  1119112    299542           0                 1  WDT0315      68.39   \n",
       "4  1119113    299543           0                 1  JBL0104      23.74   \n",
       "\n",
       "                  date  \n",
       "0  2017-01-01 00:07:19  \n",
       "1  2017-01-01 00:19:45  \n",
       "2  2017-01-01 00:20:57  \n",
       "3  2017-01-01 00:51:40  \n",
       "4  2017-01-01 01:06:38  "
      ]
     },
     "execution_count": 9,
     "metadata": {},
     "output_type": "execute_result"
    }
   ],
   "source": [
    "ol_df.head()"
   ]
  },
  {
   "cell_type": "code",
   "execution_count": 10,
   "id": "9fb82295",
   "metadata": {},
   "outputs": [
    {
     "data": {
      "text/plain": [
       "0"
      ]
     },
     "execution_count": 10,
     "metadata": {},
     "output_type": "execute_result"
    }
   ],
   "source": [
    "ol_df.duplicated().sum()"
   ]
  },
  {
   "cell_type": "code",
   "execution_count": 11,
   "id": "7dbfc512",
   "metadata": {},
   "outputs": [
    {
     "name": "stdout",
     "output_type": "stream",
     "text": [
      "<class 'pandas.core.frame.DataFrame'>\n",
      "RangeIndex: 293983 entries, 0 to 293982\n",
      "Data columns (total 7 columns):\n",
      " #   Column            Non-Null Count   Dtype \n",
      "---  ------            --------------   ----- \n",
      " 0   id                293983 non-null  int64 \n",
      " 1   id_order          293983 non-null  int64 \n",
      " 2   product_id        293983 non-null  int64 \n",
      " 3   product_quantity  293983 non-null  int64 \n",
      " 4   sku               293983 non-null  object\n",
      " 5   unit_price        293983 non-null  object\n",
      " 6   date              293983 non-null  object\n",
      "dtypes: int64(4), object(3)\n",
      "memory usage: 15.7+ MB\n"
     ]
    }
   ],
   "source": [
    "ol_df.info()"
   ]
  },
  {
   "cell_type": "markdown",
   "id": "bb47861b",
   "metadata": {},
   "source": [
    "* ### we don't have missing values\n",
    "* ### we have to change date to datetime \n",
    "* ### we don't have duplicated rows\n",
    "* ### we should change unit_price to float"
   ]
  },
  {
   "cell_type": "code",
   "execution_count": 12,
   "id": "9bbd05fb",
   "metadata": {},
   "outputs": [],
   "source": [
    "ol_df['date'] = pd.to_datetime(ol_df['date'])"
   ]
  },
  {
   "cell_type": "code",
   "execution_count": 13,
   "id": "fb17aebd",
   "metadata": {},
   "outputs": [
    {
     "data": {
      "text/plain": [
       "unit_price\n",
       "False    257814\n",
       "True      36169\n",
       "Name: count, dtype: int64"
      ]
     },
     "execution_count": 13,
     "metadata": {},
     "output_type": "execute_result"
    }
   ],
   "source": [
    "ol_df['unit_price'].str.contains('\\d+\\.\\d+\\.\\d+').value_counts()"
   ]
  },
  {
   "cell_type": "code",
   "execution_count": 14,
   "id": "02568cb7",
   "metadata": {},
   "outputs": [],
   "source": [
    "two_dot_ol = ol_df.loc[ol_df['unit_price'].str.contains('\\d+\\.\\d+\\.\\d+'), 'id_order']\n",
    "ol_df = ol_df.loc[~ol_df['id_order'].isin(two_dot_ol)]"
   ]
  },
  {
   "cell_type": "code",
   "execution_count": 15,
   "id": "0d5be761",
   "metadata": {},
   "outputs": [
    {
     "data": {
      "text/plain": [
       "unit_price\n",
       "False    216250\n",
       "Name: count, dtype: int64"
      ]
     },
     "execution_count": 15,
     "metadata": {},
     "output_type": "execute_result"
    }
   ],
   "source": [
    "ol_df['unit_price'].str.contains('\\d+\\.\\d+\\.\\d+').value_counts()"
   ]
  },
  {
   "cell_type": "code",
   "execution_count": 16,
   "id": "dfd04a7e",
   "metadata": {},
   "outputs": [],
   "source": [
    "ol_df['unit_price'] = pd.to_numeric(ol_df['unit_price'])"
   ]
  },
  {
   "cell_type": "code",
   "execution_count": 17,
   "id": "53910a7e",
   "metadata": {},
   "outputs": [],
   "source": [
    "products = pd.read_csv('products.csv')\n",
    "products_df = products.copy()"
   ]
  },
  {
   "cell_type": "code",
   "execution_count": 18,
   "id": "59b07909",
   "metadata": {},
   "outputs": [
    {
     "data": {
      "text/html": [
       "<div>\n",
       "<style scoped>\n",
       "    .dataframe tbody tr th:only-of-type {\n",
       "        vertical-align: middle;\n",
       "    }\n",
       "\n",
       "    .dataframe tbody tr th {\n",
       "        vertical-align: top;\n",
       "    }\n",
       "\n",
       "    .dataframe thead th {\n",
       "        text-align: right;\n",
       "    }\n",
       "</style>\n",
       "<table border=\"1\" class=\"dataframe\">\n",
       "  <thead>\n",
       "    <tr style=\"text-align: right;\">\n",
       "      <th></th>\n",
       "      <th>sku</th>\n",
       "      <th>name</th>\n",
       "      <th>desc</th>\n",
       "      <th>price</th>\n",
       "      <th>promo_price</th>\n",
       "      <th>in_stock</th>\n",
       "      <th>type</th>\n",
       "    </tr>\n",
       "  </thead>\n",
       "  <tbody>\n",
       "    <tr>\n",
       "      <th>0</th>\n",
       "      <td>RAI0007</td>\n",
       "      <td>Silver Rain Design mStand Support</td>\n",
       "      <td>Aluminum support compatible with all MacBook</td>\n",
       "      <td>59.99</td>\n",
       "      <td>499.899</td>\n",
       "      <td>1</td>\n",
       "      <td>8696</td>\n",
       "    </tr>\n",
       "    <tr>\n",
       "      <th>1</th>\n",
       "      <td>APP0023</td>\n",
       "      <td>Apple Mac Keyboard Keypad Spanish</td>\n",
       "      <td>USB ultrathin keyboard Apple Mac Spanish.</td>\n",
       "      <td>59</td>\n",
       "      <td>589.996</td>\n",
       "      <td>0</td>\n",
       "      <td>13855401</td>\n",
       "    </tr>\n",
       "    <tr>\n",
       "      <th>2</th>\n",
       "      <td>APP0025</td>\n",
       "      <td>Mighty Mouse Apple Mouse for Mac</td>\n",
       "      <td>mouse Apple USB cable.</td>\n",
       "      <td>59</td>\n",
       "      <td>569.898</td>\n",
       "      <td>0</td>\n",
       "      <td>1387</td>\n",
       "    </tr>\n",
       "    <tr>\n",
       "      <th>3</th>\n",
       "      <td>APP0072</td>\n",
       "      <td>Apple Dock to USB Cable iPhone and iPod white</td>\n",
       "      <td>IPhone dock and USB Cable Apple iPod.</td>\n",
       "      <td>25</td>\n",
       "      <td>229.997</td>\n",
       "      <td>0</td>\n",
       "      <td>1230</td>\n",
       "    </tr>\n",
       "    <tr>\n",
       "      <th>4</th>\n",
       "      <td>KIN0007</td>\n",
       "      <td>Mac Memory Kingston 2GB 667MHz DDR2 SO-DIMM</td>\n",
       "      <td>2GB RAM Mac mini and iMac (2006/07) MacBook Pr...</td>\n",
       "      <td>34.99</td>\n",
       "      <td>31.99</td>\n",
       "      <td>1</td>\n",
       "      <td>1364</td>\n",
       "    </tr>\n",
       "  </tbody>\n",
       "</table>\n",
       "</div>"
      ],
      "text/plain": [
       "       sku                                           name  \\\n",
       "0  RAI0007              Silver Rain Design mStand Support   \n",
       "1  APP0023              Apple Mac Keyboard Keypad Spanish   \n",
       "2  APP0025               Mighty Mouse Apple Mouse for Mac   \n",
       "3  APP0072  Apple Dock to USB Cable iPhone and iPod white   \n",
       "4  KIN0007    Mac Memory Kingston 2GB 667MHz DDR2 SO-DIMM   \n",
       "\n",
       "                                                desc  price promo_price  \\\n",
       "0       Aluminum support compatible with all MacBook  59.99     499.899   \n",
       "1          USB ultrathin keyboard Apple Mac Spanish.     59     589.996   \n",
       "2                             mouse Apple USB cable.     59     569.898   \n",
       "3              IPhone dock and USB Cable Apple iPod.     25     229.997   \n",
       "4  2GB RAM Mac mini and iMac (2006/07) MacBook Pr...  34.99       31.99   \n",
       "\n",
       "   in_stock      type  \n",
       "0         1      8696  \n",
       "1         0  13855401  \n",
       "2         0      1387  \n",
       "3         0      1230  \n",
       "4         1      1364  "
      ]
     },
     "execution_count": 18,
     "metadata": {},
     "output_type": "execute_result"
    }
   ],
   "source": [
    "products_df.head()"
   ]
  },
  {
   "cell_type": "code",
   "execution_count": 19,
   "id": "aa1d7656",
   "metadata": {},
   "outputs": [
    {
     "data": {
      "text/plain": [
       "8746"
      ]
     },
     "execution_count": 19,
     "metadata": {},
     "output_type": "execute_result"
    }
   ],
   "source": [
    "products.duplicated().sum()"
   ]
  },
  {
   "cell_type": "code",
   "execution_count": 20,
   "id": "f8472372",
   "metadata": {},
   "outputs": [
    {
     "name": "stdout",
     "output_type": "stream",
     "text": [
      "<class 'pandas.core.frame.DataFrame'>\n",
      "RangeIndex: 19326 entries, 0 to 19325\n",
      "Data columns (total 7 columns):\n",
      " #   Column       Non-Null Count  Dtype \n",
      "---  ------       --------------  ----- \n",
      " 0   sku          19326 non-null  object\n",
      " 1   name         19326 non-null  object\n",
      " 2   desc         19319 non-null  object\n",
      " 3   price        19280 non-null  object\n",
      " 4   promo_price  19326 non-null  object\n",
      " 5   in_stock     19326 non-null  int64 \n",
      " 6   type         19276 non-null  object\n",
      "dtypes: int64(1), object(6)\n",
      "memory usage: 1.0+ MB\n"
     ]
    }
   ],
   "source": [
    "products_df.info()"
   ]
  },
  {
   "cell_type": "markdown",
   "id": "d1fd4646",
   "metadata": {},
   "source": [
    "* ### we have 7 NaN values in *desc* column\n",
    "* ### we have 45 NaN values in *price* \n",
    "* ### we have 50 NaN values in *type*\n",
    "* ### there are 8746 duplicated in products\n",
    "* ### *price* column has to be float "
   ]
  },
  {
   "cell_type": "code",
   "execution_count": 21,
   "id": "2cd36700",
   "metadata": {},
   "outputs": [],
   "source": [
    "products_df = products_df.drop_duplicates()"
   ]
  },
  {
   "cell_type": "code",
   "execution_count": 22,
   "id": "29e83a2f",
   "metadata": {},
   "outputs": [
    {
     "data": {
      "text/plain": [
       "0"
      ]
     },
     "execution_count": 22,
     "metadata": {},
     "output_type": "execute_result"
    }
   ],
   "source": [
    "products_df.duplicated().sum()"
   ]
  },
  {
   "cell_type": "code",
   "execution_count": 23,
   "id": "3d59ba0b",
   "metadata": {},
   "outputs": [
    {
     "data": {
      "text/plain": [
       "1"
      ]
     },
     "execution_count": 23,
     "metadata": {},
     "output_type": "execute_result"
    }
   ],
   "source": [
    "# we have 1 duplicated value in 'sku' while our column should be unique\n",
    "products_df.duplicated(subset='sku').sum()"
   ]
  },
  {
   "cell_type": "code",
   "execution_count": 24,
   "id": "b9fc3a7d",
   "metadata": {},
   "outputs": [
    {
     "data": {
      "text/html": [
       "<div>\n",
       "<style scoped>\n",
       "    .dataframe tbody tr th:only-of-type {\n",
       "        vertical-align: middle;\n",
       "    }\n",
       "\n",
       "    .dataframe tbody tr th {\n",
       "        vertical-align: top;\n",
       "    }\n",
       "\n",
       "    .dataframe thead th {\n",
       "        text-align: right;\n",
       "    }\n",
       "</style>\n",
       "<table border=\"1\" class=\"dataframe\">\n",
       "  <thead>\n",
       "    <tr style=\"text-align: right;\">\n",
       "      <th></th>\n",
       "      <th>sku</th>\n",
       "      <th>name</th>\n",
       "      <th>desc</th>\n",
       "      <th>price</th>\n",
       "      <th>promo_price</th>\n",
       "      <th>in_stock</th>\n",
       "      <th>type</th>\n",
       "    </tr>\n",
       "  </thead>\n",
       "  <tbody>\n",
       "    <tr>\n",
       "      <th>8000</th>\n",
       "      <td>APP1197</td>\n",
       "      <td>Apple iMac 21.5 \"Core i5 31 GHz Retina display...</td>\n",
       "      <td>Desktop Apple iMac 21.5 inch i5 31 GHz Retina ...</td>\n",
       "      <td>NaN</td>\n",
       "      <td>1305.59</td>\n",
       "      <td>0</td>\n",
       "      <td>1282</td>\n",
       "    </tr>\n",
       "  </tbody>\n",
       "</table>\n",
       "</div>"
      ],
      "text/plain": [
       "          sku                                               name  \\\n",
       "8000  APP1197  Apple iMac 21.5 \"Core i5 31 GHz Retina display...   \n",
       "\n",
       "                                                   desc price promo_price  \\\n",
       "8000  Desktop Apple iMac 21.5 inch i5 31 GHz Retina ...   NaN     1305.59   \n",
       "\n",
       "      in_stock  type  \n",
       "8000         0  1282  "
      ]
     },
     "execution_count": 24,
     "metadata": {},
     "output_type": "execute_result"
    }
   ],
   "source": [
    "# we try to find the duplicated 'sku'\n",
    "products_df.loc[products_df['sku'].duplicated() == True]"
   ]
  },
  {
   "cell_type": "code",
   "execution_count": 25,
   "id": "0fd05414",
   "metadata": {},
   "outputs": [],
   "source": [
    "# drop duplicated 'sku'\n",
    "products_df = products_df.drop_duplicates(subset='sku')"
   ]
  },
  {
   "cell_type": "code",
   "execution_count": 26,
   "id": "b1b2b4bc",
   "metadata": {},
   "outputs": [
    {
     "data": {
      "text/html": [
       "<div>\n",
       "<style scoped>\n",
       "    .dataframe tbody tr th:only-of-type {\n",
       "        vertical-align: middle;\n",
       "    }\n",
       "\n",
       "    .dataframe tbody tr th {\n",
       "        vertical-align: top;\n",
       "    }\n",
       "\n",
       "    .dataframe thead th {\n",
       "        text-align: right;\n",
       "    }\n",
       "</style>\n",
       "<table border=\"1\" class=\"dataframe\">\n",
       "  <thead>\n",
       "    <tr style=\"text-align: right;\">\n",
       "      <th></th>\n",
       "      <th>sku</th>\n",
       "      <th>name</th>\n",
       "      <th>desc</th>\n",
       "      <th>price</th>\n",
       "      <th>promo_price</th>\n",
       "      <th>in_stock</th>\n",
       "      <th>type</th>\n",
       "    </tr>\n",
       "  </thead>\n",
       "  <tbody>\n",
       "    <tr>\n",
       "      <th>7992</th>\n",
       "      <td>APP1197</td>\n",
       "      <td>Apple iMac 21.5 \"Core i5 31 GHz Retina display...</td>\n",
       "      <td>Desktop Apple iMac 21.5 inch i5 31 GHz Retina ...</td>\n",
       "      <td>1729</td>\n",
       "      <td>1305.59</td>\n",
       "      <td>0</td>\n",
       "      <td>1282</td>\n",
       "    </tr>\n",
       "  </tbody>\n",
       "</table>\n",
       "</div>"
      ],
      "text/plain": [
       "          sku                                               name  \\\n",
       "7992  APP1197  Apple iMac 21.5 \"Core i5 31 GHz Retina display...   \n",
       "\n",
       "                                                   desc price promo_price  \\\n",
       "7992  Desktop Apple iMac 21.5 inch i5 31 GHz Retina ...  1729     1305.59   \n",
       "\n",
       "      in_stock  type  \n",
       "7992         0  1282  "
      ]
     },
     "execution_count": 26,
     "metadata": {},
     "output_type": "execute_result"
    }
   ],
   "source": [
    "products_df.loc[products_df['sku'] == 'APP1197']"
   ]
  },
  {
   "cell_type": "code",
   "execution_count": 27,
   "id": "0241b94c",
   "metadata": {},
   "outputs": [],
   "source": [
    "# fillig null values in 'desc' column with 'name' column\n",
    "products_df.loc[products_df['desc'].isna(), 'desc'] = products_df.loc[products_df['desc'].isna(), 'name']"
   ]
  },
  {
   "cell_type": "code",
   "execution_count": 28,
   "id": "d9a3fde4",
   "metadata": {},
   "outputs": [
    {
     "data": {
      "text/html": [
       "<div>\n",
       "<style scoped>\n",
       "    .dataframe tbody tr th:only-of-type {\n",
       "        vertical-align: middle;\n",
       "    }\n",
       "\n",
       "    .dataframe tbody tr th {\n",
       "        vertical-align: top;\n",
       "    }\n",
       "\n",
       "    .dataframe thead th {\n",
       "        text-align: right;\n",
       "    }\n",
       "</style>\n",
       "<table border=\"1\" class=\"dataframe\">\n",
       "  <thead>\n",
       "    <tr style=\"text-align: right;\">\n",
       "      <th></th>\n",
       "      <th>sku</th>\n",
       "      <th>name</th>\n",
       "      <th>desc</th>\n",
       "      <th>price</th>\n",
       "      <th>promo_price</th>\n",
       "      <th>in_stock</th>\n",
       "      <th>type</th>\n",
       "    </tr>\n",
       "  </thead>\n",
       "  <tbody>\n",
       "  </tbody>\n",
       "</table>\n",
       "</div>"
      ],
      "text/plain": [
       "Empty DataFrame\n",
       "Columns: [sku, name, desc, price, promo_price, in_stock, type]\n",
       "Index: []"
      ]
     },
     "execution_count": 28,
     "metadata": {},
     "output_type": "execute_result"
    }
   ],
   "source": [
    "products_df.loc[products_df['desc'].isna(),:]"
   ]
  },
  {
   "cell_type": "code",
   "execution_count": 29,
   "id": "777cbf06",
   "metadata": {},
   "outputs": [
    {
     "data": {
      "text/plain": [
       "45"
      ]
     },
     "execution_count": 29,
     "metadata": {},
     "output_type": "execute_result"
    }
   ],
   "source": [
    "# check the null values in 'price'\n",
    "products_df['price'].isna().sum()"
   ]
  },
  {
   "cell_type": "code",
   "execution_count": 30,
   "id": "69306909",
   "metadata": {},
   "outputs": [
    {
     "name": "stdout",
     "output_type": "stream",
     "text": [
      "The missing values in price are0.43% of all rows in the DataFrame\n"
     ]
    }
   ],
   "source": [
    "print(f\"The missing values in price are{(products_df['price'].isna().value_counts(normalize=True)[1] * 100).round(2)}% of all rows in the DataFrame\")"
   ]
  },
  {
   "cell_type": "code",
   "execution_count": 31,
   "id": "75ea79ee",
   "metadata": {},
   "outputs": [],
   "source": [
    "# remove missing values in 'price'\n",
    "products_df = products_df.loc[~products_df['price'].isna()]"
   ]
  },
  {
   "cell_type": "code",
   "execution_count": 32,
   "id": "4f7c995f",
   "metadata": {},
   "outputs": [
    {
     "data": {
      "text/plain": [
       "0"
      ]
     },
     "execution_count": 32,
     "metadata": {},
     "output_type": "execute_result"
    }
   ],
   "source": [
    "products_df['price'].isna().sum()"
   ]
  },
  {
   "cell_type": "code",
   "execution_count": 33,
   "id": "5f10af51",
   "metadata": {},
   "outputs": [
    {
     "data": {
      "text/plain": [
       "542"
      ]
     },
     "execution_count": 33,
     "metadata": {},
     "output_type": "execute_result"
    }
   ],
   "source": [
    "price_problem_products = products_df.loc[products_df['price'].astype(str).str.contains(\"\\d+\\.\\d+\\.\\d+\")|products_df['price'].astype(str).str.contains(\"\\d+\\.\\d{3,}\"),:].shape[0]\n",
    "price_problem_products"
   ]
  },
  {
   "cell_type": "code",
   "execution_count": 34,
   "id": "b2e39584",
   "metadata": {},
   "outputs": [
    {
     "name": "stdout",
     "output_type": "stream",
     "text": [
      "The column price has in total 542 wrong values. This is 5.15% of the rows of the DataFrame\n"
     ]
    }
   ],
   "source": [
    "print(f\"The column price has in total {price_problem_products} wrong values. This is {round(((price_problem_products / products_df.shape[0]) * 100), 2)}% of the rows of the DataFrame\")"
   ]
  },
  {
   "cell_type": "code",
   "execution_count": 35,
   "id": "26fb2c49",
   "metadata": {
    "scrolled": true
   },
   "outputs": [
    {
     "data": {
      "text/html": [
       "<div>\n",
       "<style scoped>\n",
       "    .dataframe tbody tr th:only-of-type {\n",
       "        vertical-align: middle;\n",
       "    }\n",
       "\n",
       "    .dataframe tbody tr th {\n",
       "        vertical-align: top;\n",
       "    }\n",
       "\n",
       "    .dataframe thead th {\n",
       "        text-align: right;\n",
       "    }\n",
       "</style>\n",
       "<table border=\"1\" class=\"dataframe\">\n",
       "  <thead>\n",
       "    <tr style=\"text-align: right;\">\n",
       "      <th></th>\n",
       "      <th>sku</th>\n",
       "      <th>name</th>\n",
       "      <th>desc</th>\n",
       "      <th>price</th>\n",
       "      <th>promo_price</th>\n",
       "      <th>in_stock</th>\n",
       "      <th>type</th>\n",
       "    </tr>\n",
       "  </thead>\n",
       "  <tbody>\n",
       "    <tr>\n",
       "      <th>665</th>\n",
       "      <td>CRU0015-2</td>\n",
       "      <td>Crucial memory Mac 16GB (2x8GB) SO-DIMM DDR3 1...</td>\n",
       "      <td>RAM 16GB (2x8GB) 135V MacBook Pro iMac (2012/2...</td>\n",
       "      <td>1.639.792</td>\n",
       "      <td>1.629.894</td>\n",
       "      <td>1</td>\n",
       "      <td>1364</td>\n",
       "    </tr>\n",
       "    <tr>\n",
       "      <th>792</th>\n",
       "      <td>APP0672</td>\n",
       "      <td>Apple iPhone 5S 16GB Space Gray</td>\n",
       "      <td>New iPhone 5S 16G Libre (ME432Y / AB).</td>\n",
       "      <td>4.694.994</td>\n",
       "      <td>4.694.994</td>\n",
       "      <td>0</td>\n",
       "      <td>NaN</td>\n",
       "    </tr>\n",
       "    <tr>\n",
       "      <th>797</th>\n",
       "      <td>APP0673</td>\n",
       "      <td>Apple iPhone 5S 16GB Silver</td>\n",
       "      <td>New Free iPhone 5S 16GB (ME433Y / A).</td>\n",
       "      <td>4.090.042</td>\n",
       "      <td>4.090.042</td>\n",
       "      <td>0</td>\n",
       "      <td>NaN</td>\n",
       "    </tr>\n",
       "    <tr>\n",
       "      <th>827</th>\n",
       "      <td>PAC0339</td>\n",
       "      <td>NewerTech miniStack 4TB Hard Drive Mac</td>\n",
       "      <td>External Box Hard Drive Mac + 4TB.</td>\n",
       "      <td>2.199.791</td>\n",
       "      <td>2.199.901</td>\n",
       "      <td>0</td>\n",
       "      <td>11935397</td>\n",
       "    </tr>\n",
       "    <tr>\n",
       "      <th>885</th>\n",
       "      <td>PAC0376</td>\n",
       "      <td>OWC Mercury Elite Pro Dual Thunderbolt + 8TB</td>\n",
       "      <td>RAID outer box 35 inch SATA connection Thunder...</td>\n",
       "      <td>5.609.698</td>\n",
       "      <td>5.549.895</td>\n",
       "      <td>0</td>\n",
       "      <td>11935397</td>\n",
       "    </tr>\n",
       "    <tr>\n",
       "      <th>...</th>\n",
       "      <td>...</td>\n",
       "      <td>...</td>\n",
       "      <td>...</td>\n",
       "      <td>...</td>\n",
       "      <td>...</td>\n",
       "      <td>...</td>\n",
       "      <td>...</td>\n",
       "    </tr>\n",
       "    <tr>\n",
       "      <th>19312</th>\n",
       "      <td>REP0424</td>\n",
       "      <td>Input repair Headphones iPad</td>\n",
       "      <td>Repair service including parts and labor for iPad</td>\n",
       "      <td>6.999.003</td>\n",
       "      <td>69.99</td>\n",
       "      <td>0</td>\n",
       "      <td>1,44E+11</td>\n",
       "    </tr>\n",
       "    <tr>\n",
       "      <th>19313</th>\n",
       "      <td>REP0421</td>\n",
       "      <td>iPad charging connector repair</td>\n",
       "      <td>Repair service including parts and labor for iPad</td>\n",
       "      <td>6.999.003</td>\n",
       "      <td>69.99</td>\n",
       "      <td>0</td>\n",
       "      <td>1,44E+11</td>\n",
       "    </tr>\n",
       "    <tr>\n",
       "      <th>19314</th>\n",
       "      <td>REP0416</td>\n",
       "      <td>iPad front camera repair</td>\n",
       "      <td>Repair service including parts and labor for iPad</td>\n",
       "      <td>6.999.003</td>\n",
       "      <td>69.99</td>\n",
       "      <td>0</td>\n",
       "      <td>1,44E+11</td>\n",
       "    </tr>\n",
       "    <tr>\n",
       "      <th>19315</th>\n",
       "      <td>REP0413</td>\n",
       "      <td>repair rear camera iPad</td>\n",
       "      <td>Repair service including parts and labor for iPad</td>\n",
       "      <td>6.999.003</td>\n",
       "      <td>69.99</td>\n",
       "      <td>0</td>\n",
       "      <td>1,44E+11</td>\n",
       "    </tr>\n",
       "    <tr>\n",
       "      <th>19316</th>\n",
       "      <td>REP0407</td>\n",
       "      <td>iPad battery repair</td>\n",
       "      <td>Repair service including parts and labor for iPad</td>\n",
       "      <td>6.999.003</td>\n",
       "      <td>69.99</td>\n",
       "      <td>0</td>\n",
       "      <td>1,44E+11</td>\n",
       "    </tr>\n",
       "  </tbody>\n",
       "</table>\n",
       "<p>377 rows × 7 columns</p>\n",
       "</div>"
      ],
      "text/plain": [
       "             sku                                               name  \\\n",
       "665    CRU0015-2  Crucial memory Mac 16GB (2x8GB) SO-DIMM DDR3 1...   \n",
       "792      APP0672                    Apple iPhone 5S 16GB Space Gray   \n",
       "797      APP0673                        Apple iPhone 5S 16GB Silver   \n",
       "827      PAC0339             NewerTech miniStack 4TB Hard Drive Mac   \n",
       "885      PAC0376       OWC Mercury Elite Pro Dual Thunderbolt + 8TB   \n",
       "...          ...                                                ...   \n",
       "19312    REP0424                       Input repair Headphones iPad   \n",
       "19313    REP0421                     iPad charging connector repair   \n",
       "19314    REP0416                           iPad front camera repair   \n",
       "19315    REP0413                            repair rear camera iPad   \n",
       "19316    REP0407                                iPad battery repair   \n",
       "\n",
       "                                                    desc      price  \\\n",
       "665    RAM 16GB (2x8GB) 135V MacBook Pro iMac (2012/2...  1.639.792   \n",
       "792               New iPhone 5S 16G Libre (ME432Y / AB).  4.694.994   \n",
       "797                New Free iPhone 5S 16GB (ME433Y / A).  4.090.042   \n",
       "827                   External Box Hard Drive Mac + 4TB.  2.199.791   \n",
       "885    RAID outer box 35 inch SATA connection Thunder...  5.609.698   \n",
       "...                                                  ...        ...   \n",
       "19312  Repair service including parts and labor for iPad  6.999.003   \n",
       "19313  Repair service including parts and labor for iPad  6.999.003   \n",
       "19314  Repair service including parts and labor for iPad  6.999.003   \n",
       "19315  Repair service including parts and labor for iPad  6.999.003   \n",
       "19316  Repair service including parts and labor for iPad  6.999.003   \n",
       "\n",
       "      promo_price  in_stock      type  \n",
       "665     1.629.894         1      1364  \n",
       "792     4.694.994         0       NaN  \n",
       "797     4.090.042         0       NaN  \n",
       "827     2.199.901         0  11935397  \n",
       "885     5.549.895         0  11935397  \n",
       "...           ...       ...       ...  \n",
       "19312       69.99         0  1,44E+11  \n",
       "19313       69.99         0  1,44E+11  \n",
       "19314       69.99         0  1,44E+11  \n",
       "19315       69.99         0  1,44E+11  \n",
       "19316       69.99         0  1,44E+11  \n",
       "\n",
       "[377 rows x 7 columns]"
      ]
     },
     "execution_count": 35,
     "metadata": {},
     "output_type": "execute_result"
    }
   ],
   "source": [
    "products_df.loc[(products_df.price.astype(str).str.contains(\"\\d+\\.\\d+\\.\\d+\"))&(products_df.price.astype(str).str.contains(\"\\d+\\.\\d{3,}\")), :]"
   ]
  },
  {
   "cell_type": "code",
   "execution_count": 36,
   "id": "a41519ac",
   "metadata": {},
   "outputs": [],
   "source": [
    "# removing the prices with two dots and three decimal places \n",
    "products_df = products_df.loc[(~products_df['price'].astype(str).str.contains(\"\\d+\\.\\d+\\.\\d+\"))&(~products_df['price'].astype(str).str.contains(\"\\d+\\.\\d{3,}\")), :]"
   ]
  },
  {
   "cell_type": "code",
   "execution_count": 37,
   "id": "041a7cc2",
   "metadata": {},
   "outputs": [],
   "source": [
    "# convert 'price' to numeric \n",
    "products_df[\"price\"] = pd.to_numeric(products_df[\"price\"])"
   ]
  },
  {
   "cell_type": "code",
   "execution_count": 38,
   "id": "1e6d405e",
   "metadata": {},
   "outputs": [
    {
     "name": "stdout",
     "output_type": "stream",
     "text": [
      "<class 'pandas.core.frame.DataFrame'>\n",
      "Index: 9992 entries, 0 to 19325\n",
      "Data columns (total 7 columns):\n",
      " #   Column       Non-Null Count  Dtype  \n",
      "---  ------       --------------  -----  \n",
      " 0   sku          9992 non-null   object \n",
      " 1   name         9992 non-null   object \n",
      " 2   desc         9992 non-null   object \n",
      " 3   price        9992 non-null   float64\n",
      " 4   promo_price  9992 non-null   object \n",
      " 5   in_stock     9992 non-null   int64  \n",
      " 6   type         9946 non-null   object \n",
      "dtypes: float64(1), int64(1), object(5)\n",
      "memory usage: 624.5+ KB\n"
     ]
    }
   ],
   "source": [
    "products_df.info()"
   ]
  },
  {
   "cell_type": "markdown",
   "id": "7a868e13",
   "metadata": {},
   "source": [
    "## at this stage we are done with cleaning all of the files regarding duplicates, null values and data types. now we dig deeper into data quality assessment in order to check for the consistency"
   ]
  },
  {
   "cell_type": "markdown",
   "id": "e20e5c05",
   "metadata": {},
   "source": [
    "### Quality assessment \n",
    "#### exclude unwanted orders "
   ]
  },
  {
   "cell_type": "code",
   "execution_count": 39,
   "id": "e736baaf",
   "metadata": {},
   "outputs": [],
   "source": [
    "pd.set_option('display.float_format', lambda x: '%.2f' % x)\n",
    "pd.set_option('display.max_rows', 1000)"
   ]
  },
  {
   "cell_type": "code",
   "execution_count": 40,
   "id": "4d9c62e6",
   "metadata": {},
   "outputs": [
    {
     "data": {
      "text/plain": [
       "state\n",
       "Shopping Basket   51.92\n",
       "Completed         20.54\n",
       "Place Order       18.02\n",
       "Pending            6.33\n",
       "Cancelled          3.19\n",
       "Name: proportion, dtype: float64"
      ]
     },
     "execution_count": 40,
     "metadata": {},
     "output_type": "execute_result"
    }
   ],
   "source": [
    "# we keep 'completed' and 'place order' in our dataframe\n",
    "orders_df['state'].value_counts(normalize=True)* 100"
   ]
  },
  {
   "cell_type": "code",
   "execution_count": 41,
   "id": "6c486db7",
   "metadata": {},
   "outputs": [],
   "source": [
    "# Filter down to completed orders\n",
    "orders_complete = orders_df.loc[orders_df['state'].isin(['Completed' ,'Place Order'])].copy()\n",
    "\n",
    "# Filter out orderlines that have no corresponding order\n",
    "ol_clean = ol_df.loc[ol_df['id_order'].isin(orders_complete['order_id'])].copy()\n",
    "\n",
    "# Filter out orders without corresponding orderlines\n",
    "orders_clean = orders_df.loc[orders_df['order_id'].isin(ol_clean['id_order'])].copy()"
   ]
  },
  {
   "cell_type": "code",
   "execution_count": 42,
   "id": "9cccdd62",
   "metadata": {},
   "outputs": [
    {
     "name": "stdout",
     "output_type": "stream",
     "text": [
      "66568\n",
      "66568\n"
     ]
    }
   ],
   "source": [
    "# \n",
    "print(ol_clean['id_order'].nunique())\n",
    "print(orders_clean['order_id'].nunique())"
   ]
  },
  {
   "cell_type": "markdown",
   "id": "5d5b2e72",
   "metadata": {},
   "source": [
    "### The last and cleaned version of tables are:\n",
    "* ### orders_clean\n",
    "* ### ol_clean\n",
    "* ### products_df(we didn't change this table in this stage)\n"
   ]
  },
  {
   "cell_type": "markdown",
   "id": "06e0da43",
   "metadata": {},
   "source": [
    "#### exclude unwanted products"
   ]
  },
  {
   "cell_type": "code",
   "execution_count": 43,
   "id": "47437dfc",
   "metadata": {},
   "outputs": [],
   "source": [
    "# listing unique 'sku' from products table\n",
    "existing_products = list(products_df['sku'].unique())"
   ]
  },
  {
   "cell_type": "code",
   "execution_count": 44,
   "id": "d0cd8d15",
   "metadata": {},
   "outputs": [],
   "source": [
    "# orders containing unique products are 'False' in 'corrupted' column and orders not containing these products are 'True'\n",
    "ol_clean['corrupted'] = ~ol_clean['sku'].isin(existing_products)\n"
   ]
  },
  {
   "cell_type": "code",
   "execution_count": 45,
   "id": "c85d36dc",
   "metadata": {},
   "outputs": [
    {
     "data": {
      "text/html": [
       "<div>\n",
       "<style scoped>\n",
       "    .dataframe tbody tr th:only-of-type {\n",
       "        vertical-align: middle;\n",
       "    }\n",
       "\n",
       "    .dataframe tbody tr th {\n",
       "        vertical-align: top;\n",
       "    }\n",
       "\n",
       "    .dataframe thead th {\n",
       "        text-align: right;\n",
       "    }\n",
       "</style>\n",
       "<table border=\"1\" class=\"dataframe\">\n",
       "  <thead>\n",
       "    <tr style=\"text-align: right;\">\n",
       "      <th></th>\n",
       "      <th>id</th>\n",
       "      <th>id_order</th>\n",
       "      <th>product_id</th>\n",
       "      <th>product_quantity</th>\n",
       "      <th>sku</th>\n",
       "      <th>unit_price</th>\n",
       "      <th>date</th>\n",
       "      <th>corrupted</th>\n",
       "    </tr>\n",
       "  </thead>\n",
       "  <tbody>\n",
       "    <tr>\n",
       "      <th>7</th>\n",
       "      <td>1119116</td>\n",
       "      <td>299545</td>\n",
       "      <td>0</td>\n",
       "      <td>1</td>\n",
       "      <td>OWC0100</td>\n",
       "      <td>47.49</td>\n",
       "      <td>2017-01-01 01:46:16</td>\n",
       "      <td>False</td>\n",
       "    </tr>\n",
       "    <tr>\n",
       "      <th>8</th>\n",
       "      <td>1119119</td>\n",
       "      <td>299546</td>\n",
       "      <td>0</td>\n",
       "      <td>1</td>\n",
       "      <td>IOT0014</td>\n",
       "      <td>18.99</td>\n",
       "      <td>2017-01-01 01:50:34</td>\n",
       "      <td>False</td>\n",
       "    </tr>\n",
       "    <tr>\n",
       "      <th>9</th>\n",
       "      <td>1119120</td>\n",
       "      <td>295347</td>\n",
       "      <td>0</td>\n",
       "      <td>1</td>\n",
       "      <td>APP0700</td>\n",
       "      <td>72.19</td>\n",
       "      <td>2017-01-01 01:54:11</td>\n",
       "      <td>False</td>\n",
       "    </tr>\n",
       "    <tr>\n",
       "      <th>17</th>\n",
       "      <td>1119133</td>\n",
       "      <td>299555</td>\n",
       "      <td>0</td>\n",
       "      <td>1</td>\n",
       "      <td>BEA0065</td>\n",
       "      <td>256.49</td>\n",
       "      <td>2017-01-01 02:18:45</td>\n",
       "      <td>False</td>\n",
       "    </tr>\n",
       "    <tr>\n",
       "      <th>18</th>\n",
       "      <td>1119134</td>\n",
       "      <td>299556</td>\n",
       "      <td>0</td>\n",
       "      <td>1</td>\n",
       "      <td>CRU0039-A</td>\n",
       "      <td>60.90</td>\n",
       "      <td>2017-01-01 02:20:14</td>\n",
       "      <td>False</td>\n",
       "    </tr>\n",
       "    <tr>\n",
       "      <th>...</th>\n",
       "      <td>...</td>\n",
       "      <td>...</td>\n",
       "      <td>...</td>\n",
       "      <td>...</td>\n",
       "      <td>...</td>\n",
       "      <td>...</td>\n",
       "      <td>...</td>\n",
       "      <td>...</td>\n",
       "    </tr>\n",
       "    <tr>\n",
       "      <th>293973</th>\n",
       "      <td>1650193</td>\n",
       "      <td>527394</td>\n",
       "      <td>0</td>\n",
       "      <td>1</td>\n",
       "      <td>APP1922</td>\n",
       "      <td>161.00</td>\n",
       "      <td>2018-03-14 13:55:15</td>\n",
       "      <td>False</td>\n",
       "    </tr>\n",
       "    <tr>\n",
       "      <th>293975</th>\n",
       "      <td>1650195</td>\n",
       "      <td>527396</td>\n",
       "      <td>0</td>\n",
       "      <td>1</td>\n",
       "      <td>PAC0653</td>\n",
       "      <td>141.58</td>\n",
       "      <td>2018-03-14 13:55:44</td>\n",
       "      <td>False</td>\n",
       "    </tr>\n",
       "    <tr>\n",
       "      <th>293976</th>\n",
       "      <td>1650196</td>\n",
       "      <td>527384</td>\n",
       "      <td>0</td>\n",
       "      <td>1</td>\n",
       "      <td>LAC0227</td>\n",
       "      <td>249.99</td>\n",
       "      <td>2018-03-14 13:56:02</td>\n",
       "      <td>False</td>\n",
       "    </tr>\n",
       "    <tr>\n",
       "      <th>293977</th>\n",
       "      <td>1650198</td>\n",
       "      <td>527397</td>\n",
       "      <td>0</td>\n",
       "      <td>1</td>\n",
       "      <td>JBL0122</td>\n",
       "      <td>42.99</td>\n",
       "      <td>2018-03-14 13:56:38</td>\n",
       "      <td>False</td>\n",
       "    </tr>\n",
       "    <tr>\n",
       "      <th>293982</th>\n",
       "      <td>1650203</td>\n",
       "      <td>527401</td>\n",
       "      <td>0</td>\n",
       "      <td>1</td>\n",
       "      <td>APP0927</td>\n",
       "      <td>13.99</td>\n",
       "      <td>2018-03-14 13:58:36</td>\n",
       "      <td>False</td>\n",
       "    </tr>\n",
       "  </tbody>\n",
       "</table>\n",
       "<p>84285 rows × 8 columns</p>\n",
       "</div>"
      ],
      "text/plain": [
       "             id  id_order  product_id  product_quantity        sku  \\\n",
       "7       1119116    299545           0                 1    OWC0100   \n",
       "8       1119119    299546           0                 1    IOT0014   \n",
       "9       1119120    295347           0                 1    APP0700   \n",
       "17      1119133    299555           0                 1    BEA0065   \n",
       "18      1119134    299556           0                 1  CRU0039-A   \n",
       "...         ...       ...         ...               ...        ...   \n",
       "293973  1650193    527394           0                 1    APP1922   \n",
       "293975  1650195    527396           0                 1    PAC0653   \n",
       "293976  1650196    527384           0                 1    LAC0227   \n",
       "293977  1650198    527397           0                 1    JBL0122   \n",
       "293982  1650203    527401           0                 1    APP0927   \n",
       "\n",
       "        unit_price                date  corrupted  \n",
       "7            47.49 2017-01-01 01:46:16      False  \n",
       "8            18.99 2017-01-01 01:50:34      False  \n",
       "9            72.19 2017-01-01 01:54:11      False  \n",
       "17          256.49 2017-01-01 02:18:45      False  \n",
       "18           60.90 2017-01-01 02:20:14      False  \n",
       "...            ...                 ...        ...  \n",
       "293973      161.00 2018-03-14 13:55:15      False  \n",
       "293975      141.58 2018-03-14 13:55:44      False  \n",
       "293976      249.99 2018-03-14 13:56:02      False  \n",
       "293977       42.99 2018-03-14 13:56:38      False  \n",
       "293982       13.99 2018-03-14 13:58:36      False  \n",
       "\n",
       "[84285 rows x 8 columns]"
      ]
     },
     "execution_count": 45,
     "metadata": {},
     "output_type": "execute_result"
    }
   ],
   "source": [
    "ol_clean"
   ]
  },
  {
   "cell_type": "code",
   "execution_count": 46,
   "id": "3d45f18b",
   "metadata": {},
   "outputs": [],
   "source": [
    "# listing id orders with True value in 'corrupted' column\n",
    "bad_orders = list(ol_clean.loc[ol_clean['corrupted'] == True, 'id_order'])"
   ]
  },
  {
   "cell_type": "code",
   "execution_count": 47,
   "id": "05c55798",
   "metadata": {},
   "outputs": [],
   "source": [
    "# clean ol_clean and orders_clean with unique and existing products\n",
    "ol_good = ol_clean.loc[~ol_clean['id_order'].isin(bad_orders)]\n",
    "orders_good = orders_clean.loc[~orders_clean['order_id'].isin(bad_orders)]"
   ]
  },
  {
   "cell_type": "code",
   "execution_count": 48,
   "id": "d2852848",
   "metadata": {},
   "outputs": [
    {
     "name": "stdout",
     "output_type": "stream",
     "text": [
      "64487\n",
      "64487\n"
     ]
    }
   ],
   "source": [
    "#comparing the number of order id\n",
    "print(ol_good['id_order'].nunique())\n",
    "print(orders_good['order_id'].nunique())"
   ]
  },
  {
   "cell_type": "code",
   "execution_count": 49,
   "id": "07fad80c",
   "metadata": {},
   "outputs": [],
   "source": [
    "ol_good = ol_good.copy()\n",
    "ol_good['unit_price_total']= ol_good['unit_price'] * ol_good['product_quantity']"
   ]
  },
  {
   "cell_type": "code",
   "execution_count": 50,
   "id": "fa75f7af",
   "metadata": {},
   "outputs": [
    {
     "data": {
      "text/html": [
       "<div>\n",
       "<style scoped>\n",
       "    .dataframe tbody tr th:only-of-type {\n",
       "        vertical-align: middle;\n",
       "    }\n",
       "\n",
       "    .dataframe tbody tr th {\n",
       "        vertical-align: top;\n",
       "    }\n",
       "\n",
       "    .dataframe thead th {\n",
       "        text-align: right;\n",
       "    }\n",
       "</style>\n",
       "<table border=\"1\" class=\"dataframe\">\n",
       "  <thead>\n",
       "    <tr style=\"text-align: right;\">\n",
       "      <th></th>\n",
       "      <th>id</th>\n",
       "      <th>id_order</th>\n",
       "      <th>product_id</th>\n",
       "      <th>product_quantity</th>\n",
       "      <th>sku</th>\n",
       "      <th>unit_price</th>\n",
       "      <th>date</th>\n",
       "      <th>corrupted</th>\n",
       "      <th>unit_price_total</th>\n",
       "    </tr>\n",
       "  </thead>\n",
       "  <tbody>\n",
       "    <tr>\n",
       "      <th>7</th>\n",
       "      <td>1119116</td>\n",
       "      <td>299545</td>\n",
       "      <td>0</td>\n",
       "      <td>1</td>\n",
       "      <td>OWC0100</td>\n",
       "      <td>47.49</td>\n",
       "      <td>2017-01-01 01:46:16</td>\n",
       "      <td>False</td>\n",
       "      <td>47.49</td>\n",
       "    </tr>\n",
       "    <tr>\n",
       "      <th>8</th>\n",
       "      <td>1119119</td>\n",
       "      <td>299546</td>\n",
       "      <td>0</td>\n",
       "      <td>1</td>\n",
       "      <td>IOT0014</td>\n",
       "      <td>18.99</td>\n",
       "      <td>2017-01-01 01:50:34</td>\n",
       "      <td>False</td>\n",
       "      <td>18.99</td>\n",
       "    </tr>\n",
       "    <tr>\n",
       "      <th>9</th>\n",
       "      <td>1119120</td>\n",
       "      <td>295347</td>\n",
       "      <td>0</td>\n",
       "      <td>1</td>\n",
       "      <td>APP0700</td>\n",
       "      <td>72.19</td>\n",
       "      <td>2017-01-01 01:54:11</td>\n",
       "      <td>False</td>\n",
       "      <td>72.19</td>\n",
       "    </tr>\n",
       "    <tr>\n",
       "      <th>17</th>\n",
       "      <td>1119133</td>\n",
       "      <td>299555</td>\n",
       "      <td>0</td>\n",
       "      <td>1</td>\n",
       "      <td>BEA0065</td>\n",
       "      <td>256.49</td>\n",
       "      <td>2017-01-01 02:18:45</td>\n",
       "      <td>False</td>\n",
       "      <td>256.49</td>\n",
       "    </tr>\n",
       "    <tr>\n",
       "      <th>18</th>\n",
       "      <td>1119134</td>\n",
       "      <td>299556</td>\n",
       "      <td>0</td>\n",
       "      <td>1</td>\n",
       "      <td>CRU0039-A</td>\n",
       "      <td>60.90</td>\n",
       "      <td>2017-01-01 02:20:14</td>\n",
       "      <td>False</td>\n",
       "      <td>60.90</td>\n",
       "    </tr>\n",
       "    <tr>\n",
       "      <th>...</th>\n",
       "      <td>...</td>\n",
       "      <td>...</td>\n",
       "      <td>...</td>\n",
       "      <td>...</td>\n",
       "      <td>...</td>\n",
       "      <td>...</td>\n",
       "      <td>...</td>\n",
       "      <td>...</td>\n",
       "      <td>...</td>\n",
       "    </tr>\n",
       "    <tr>\n",
       "      <th>293973</th>\n",
       "      <td>1650193</td>\n",
       "      <td>527394</td>\n",
       "      <td>0</td>\n",
       "      <td>1</td>\n",
       "      <td>APP1922</td>\n",
       "      <td>161.00</td>\n",
       "      <td>2018-03-14 13:55:15</td>\n",
       "      <td>False</td>\n",
       "      <td>161.00</td>\n",
       "    </tr>\n",
       "    <tr>\n",
       "      <th>293975</th>\n",
       "      <td>1650195</td>\n",
       "      <td>527396</td>\n",
       "      <td>0</td>\n",
       "      <td>1</td>\n",
       "      <td>PAC0653</td>\n",
       "      <td>141.58</td>\n",
       "      <td>2018-03-14 13:55:44</td>\n",
       "      <td>False</td>\n",
       "      <td>141.58</td>\n",
       "    </tr>\n",
       "    <tr>\n",
       "      <th>293976</th>\n",
       "      <td>1650196</td>\n",
       "      <td>527384</td>\n",
       "      <td>0</td>\n",
       "      <td>1</td>\n",
       "      <td>LAC0227</td>\n",
       "      <td>249.99</td>\n",
       "      <td>2018-03-14 13:56:02</td>\n",
       "      <td>False</td>\n",
       "      <td>249.99</td>\n",
       "    </tr>\n",
       "    <tr>\n",
       "      <th>293977</th>\n",
       "      <td>1650198</td>\n",
       "      <td>527397</td>\n",
       "      <td>0</td>\n",
       "      <td>1</td>\n",
       "      <td>JBL0122</td>\n",
       "      <td>42.99</td>\n",
       "      <td>2018-03-14 13:56:38</td>\n",
       "      <td>False</td>\n",
       "      <td>42.99</td>\n",
       "    </tr>\n",
       "    <tr>\n",
       "      <th>293982</th>\n",
       "      <td>1650203</td>\n",
       "      <td>527401</td>\n",
       "      <td>0</td>\n",
       "      <td>1</td>\n",
       "      <td>APP0927</td>\n",
       "      <td>13.99</td>\n",
       "      <td>2018-03-14 13:58:36</td>\n",
       "      <td>False</td>\n",
       "      <td>13.99</td>\n",
       "    </tr>\n",
       "  </tbody>\n",
       "</table>\n",
       "<p>80782 rows × 9 columns</p>\n",
       "</div>"
      ],
      "text/plain": [
       "             id  id_order  product_id  product_quantity        sku  \\\n",
       "7       1119116    299545           0                 1    OWC0100   \n",
       "8       1119119    299546           0                 1    IOT0014   \n",
       "9       1119120    295347           0                 1    APP0700   \n",
       "17      1119133    299555           0                 1    BEA0065   \n",
       "18      1119134    299556           0                 1  CRU0039-A   \n",
       "...         ...       ...         ...               ...        ...   \n",
       "293973  1650193    527394           0                 1    APP1922   \n",
       "293975  1650195    527396           0                 1    PAC0653   \n",
       "293976  1650196    527384           0                 1    LAC0227   \n",
       "293977  1650198    527397           0                 1    JBL0122   \n",
       "293982  1650203    527401           0                 1    APP0927   \n",
       "\n",
       "        unit_price                date  corrupted  unit_price_total  \n",
       "7            47.49 2017-01-01 01:46:16      False             47.49  \n",
       "8            18.99 2017-01-01 01:50:34      False             18.99  \n",
       "9            72.19 2017-01-01 01:54:11      False             72.19  \n",
       "17          256.49 2017-01-01 02:18:45      False            256.49  \n",
       "18           60.90 2017-01-01 02:20:14      False             60.90  \n",
       "...            ...                 ...        ...               ...  \n",
       "293973      161.00 2018-03-14 13:55:15      False            161.00  \n",
       "293975      141.58 2018-03-14 13:55:44      False            141.58  \n",
       "293976      249.99 2018-03-14 13:56:02      False            249.99  \n",
       "293977       42.99 2018-03-14 13:56:38      False             42.99  \n",
       "293982       13.99 2018-03-14 13:58:36      False             13.99  \n",
       "\n",
       "[80782 rows x 9 columns]"
      ]
     },
     "execution_count": 50,
     "metadata": {},
     "output_type": "execute_result"
    }
   ],
   "source": [
    "ol_good"
   ]
  },
  {
   "cell_type": "code",
   "execution_count": 51,
   "id": "4161b7a3",
   "metadata": {},
   "outputs": [
    {
     "data": {
      "text/html": [
       "<div>\n",
       "<style scoped>\n",
       "    .dataframe tbody tr th:only-of-type {\n",
       "        vertical-align: middle;\n",
       "    }\n",
       "\n",
       "    .dataframe tbody tr th {\n",
       "        vertical-align: top;\n",
       "    }\n",
       "\n",
       "    .dataframe thead th {\n",
       "        text-align: right;\n",
       "    }\n",
       "</style>\n",
       "<table border=\"1\" class=\"dataframe\">\n",
       "  <thead>\n",
       "    <tr style=\"text-align: right;\">\n",
       "      <th></th>\n",
       "      <th>unit_price_total</th>\n",
       "    </tr>\n",
       "    <tr>\n",
       "      <th>id_order</th>\n",
       "      <th></th>\n",
       "    </tr>\n",
       "  </thead>\n",
       "  <tbody>\n",
       "    <tr>\n",
       "      <th>241423</th>\n",
       "      <td>129.16</td>\n",
       "    </tr>\n",
       "    <tr>\n",
       "      <th>242832</th>\n",
       "      <td>10.77</td>\n",
       "    </tr>\n",
       "    <tr>\n",
       "      <th>243330</th>\n",
       "      <td>77.99</td>\n",
       "    </tr>\n",
       "    <tr>\n",
       "      <th>245275</th>\n",
       "      <td>149.00</td>\n",
       "    </tr>\n",
       "    <tr>\n",
       "      <th>245595</th>\n",
       "      <td>105.98</td>\n",
       "    </tr>\n",
       "    <tr>\n",
       "      <th>...</th>\n",
       "      <td>...</td>\n",
       "    </tr>\n",
       "    <tr>\n",
       "      <th>527386</th>\n",
       "      <td>161.00</td>\n",
       "    </tr>\n",
       "    <tr>\n",
       "      <th>527394</th>\n",
       "      <td>161.00</td>\n",
       "    </tr>\n",
       "    <tr>\n",
       "      <th>527396</th>\n",
       "      <td>141.58</td>\n",
       "    </tr>\n",
       "    <tr>\n",
       "      <th>527397</th>\n",
       "      <td>42.99</td>\n",
       "    </tr>\n",
       "    <tr>\n",
       "      <th>527401</th>\n",
       "      <td>13.99</td>\n",
       "    </tr>\n",
       "  </tbody>\n",
       "</table>\n",
       "<p>64487 rows × 1 columns</p>\n",
       "</div>"
      ],
      "text/plain": [
       "          unit_price_total\n",
       "id_order                  \n",
       "241423              129.16\n",
       "242832               10.77\n",
       "243330               77.99\n",
       "245275              149.00\n",
       "245595              105.98\n",
       "...                    ...\n",
       "527386              161.00\n",
       "527394              161.00\n",
       "527396              141.58\n",
       "527397               42.99\n",
       "527401               13.99\n",
       "\n",
       "[64487 rows x 1 columns]"
      ]
     },
     "execution_count": 51,
     "metadata": {},
     "output_type": "execute_result"
    }
   ],
   "source": [
    "ol_good.groupby('id_order')[['unit_price_total']].sum()"
   ]
  },
  {
   "cell_type": "code",
   "execution_count": 52,
   "id": "9c7ba44a",
   "metadata": {},
   "outputs": [],
   "source": [
    "# calculating the difference of total paid(from products) and unit price total(actual paid money)\n",
    "o_ol_merge = pd.merge(ol_good.groupby('id_order')['unit_price_total'].sum(),\n",
    "                      orders_good,\n",
    "                      left_on = 'id_order',\n",
    "                      right_on = 'order_id')\n",
    "\n",
    "o_ol_merge['diff'] = o_ol_merge['total_paid'] - o_ol_merge['unit_price_total']"
   ]
  },
  {
   "cell_type": "code",
   "execution_count": 53,
   "id": "3cedfa64",
   "metadata": {},
   "outputs": [
    {
     "data": {
      "text/html": [
       "<div>\n",
       "<style scoped>\n",
       "    .dataframe tbody tr th:only-of-type {\n",
       "        vertical-align: middle;\n",
       "    }\n",
       "\n",
       "    .dataframe tbody tr th {\n",
       "        vertical-align: top;\n",
       "    }\n",
       "\n",
       "    .dataframe thead th {\n",
       "        text-align: right;\n",
       "    }\n",
       "</style>\n",
       "<table border=\"1\" class=\"dataframe\">\n",
       "  <thead>\n",
       "    <tr style=\"text-align: right;\">\n",
       "      <th></th>\n",
       "      <th>order_id</th>\n",
       "      <th>created_date</th>\n",
       "      <th>total_paid</th>\n",
       "      <th>state</th>\n",
       "    </tr>\n",
       "  </thead>\n",
       "  <tbody>\n",
       "    <tr>\n",
       "      <th>138</th>\n",
       "      <td>293308</td>\n",
       "      <td>2017-01-01 13:33:43</td>\n",
       "      <td>2635.47</td>\n",
       "      <td>Completed</td>\n",
       "    </tr>\n",
       "  </tbody>\n",
       "</table>\n",
       "</div>"
      ],
      "text/plain": [
       "     order_id         created_date  total_paid      state\n",
       "138    293308  2017-01-01 13:33:43     2635.47  Completed"
      ]
     },
     "execution_count": 53,
     "metadata": {},
     "output_type": "execute_result"
    }
   ],
   "source": [
    "orders.loc[orders[\"order_id\"]==293308]"
   ]
  },
  {
   "cell_type": "code",
   "execution_count": 54,
   "id": "30188eee",
   "metadata": {},
   "outputs": [],
   "source": [
    "ol_products=pd.merge(ol_good,products_df,on=\"sku\",how=\"left\")"
   ]
  },
  {
   "cell_type": "code",
   "execution_count": 55,
   "id": "16788a5c",
   "metadata": {},
   "outputs": [
    {
     "data": {
      "text/plain": [
       "(80782, 15)"
      ]
     },
     "execution_count": 55,
     "metadata": {},
     "output_type": "execute_result"
    }
   ],
   "source": [
    "ol_products.shape"
   ]
  },
  {
   "cell_type": "code",
   "execution_count": 56,
   "id": "a9845716",
   "metadata": {},
   "outputs": [
    {
     "data": {
      "text/plain": [
       "80782"
      ]
     },
     "execution_count": 56,
     "metadata": {},
     "output_type": "execute_result"
    }
   ],
   "source": [
    "ol_products[\"category\"] = \"\"\n",
    "ol_products[\"category\"].apply(lambda x: x.strip() == \"\").sum()"
   ]
  },
  {
   "cell_type": "code",
   "execution_count": 57,
   "id": "fd3bb18d",
   "metadata": {},
   "outputs": [
    {
     "data": {
      "text/plain": [
       "80782"
      ]
     },
     "execution_count": 57,
     "metadata": {},
     "output_type": "execute_result"
    }
   ],
   "source": [
    "ol_products[\"category\"].apply(lambda x: x.strip() == \"\").sum()"
   ]
  },
  {
   "cell_type": "markdown",
   "id": "29f8bee9",
   "metadata": {},
   "source": [
    "## Now we create categories for the products"
   ]
  },
  {
   "cell_type": "code",
   "execution_count": 58,
   "id": "a22ee452",
   "metadata": {},
   "outputs": [],
   "source": [
    "ol_products[\"category\"] = \"\""
   ]
  },
  {
   "cell_type": "code",
   "execution_count": 59,
   "id": "e7441062",
   "metadata": {},
   "outputs": [],
   "source": [
    "# Set all names of mac and price > 500 as computer\n",
    "ol_products.loc[(ol_products[\"name\"].str.contains(\"mac\", case=False)) & (ol_products[\"unit_price\"] > 500), \"category\"] = \"apple_computer\"\n",
    "# Chargers\n",
    "ol_products.loc[(ol_products[\"name\"].str.contains(\"charge\", case=False))|(ol_products[\"name\"].str.contains(\"cable\", case=False))|(ol_products[\"name\"].str.contains(\"lightning\", case=False))|(ol_products[\"name\"].str.contains(\"wireless charging\", case=False)),\"category\"]=\"charger\"\n",
    "# Screen Protector\n",
    "ol_products.loc[(ol_products[\"name\"].str.contains(\"glass\", case=False))|(ol_products[\"name\"].str.contains(\"screen\", case=False))|(ol_products[\"name\"].str.contains(\"protector\", case=False)),\"category\"]=\"Screen protector\"\n",
    "#Headsets\n",
    "ol_products.loc[(ol_products[\"name\"].str.contains(\"head\", case=False)),\"category\"]=\"earphones\"\n",
    "#Memory_Ram\n",
    "ol_products.loc[(ol_products[\"name\"].str.contains(\"ddr\", case=False)),\"category\"]=\"memory_ram\"\n",
    "#Speaker\n",
    "ol_products.loc[(ol_products[\"name\"].str.contains(\"speaker\", case=False)),\"category\"]=\"speaker\"\n",
    "#Battery\n",
    "ol_products.loc[(ol_products[\"name\"].str.contains(\"battery\", case=False)),\"category\"]=\"Battery\"\n",
    "#Adapter\n",
    "ol_products.loc[(ol_products[\"name\"].str.contains(\"adapter\", case=False)),\"category\"]=\"adapter\"\n",
    "#Monitor\n",
    "ol_products.loc[(ol_products[\"name\"].str.contains(\"monitor\", case=False)),\"category\"]=\"monitor\"\n",
    "#Ipad\n",
    "ol_products.loc[(ol_products[\"name\"].str.contains(\"ipad\", case=False)) & (ol_products[\"unit_price\"] > 300), \"category\"] = \"ipad\"\n",
    "#Iphones\n",
    "ol_products.loc[(ol_products[\"name\"].str.contains(\"iphone\", case=False)) & (ol_products[\"unit_price\"] > 250), \"category\"] = \"iphone\"\n",
    "#NAS storage\n",
    "ol_products.loc[(ol_products[\"name\"].str.contains(\"nas\", case=False)),\"category\"]=\"nas_storage\"\n",
    "# Phone cases per type\n",
    "ol_products.loc[(ol_products[\"type\"] == \"11865403\") | (ol_products[\"name\"].str.contains(\"case\", case=False)), \"category\"] = \"phone_cases\"\n",
    "#HDD storage\n",
    "ol_products.loc[((ol_products[\"name\"].str.contains(\"hard disk\", case=False)) | (ol_products[\"name\"].str.contains(\"hard drive\", case=False)) | (ol_products[\"name\"].str.contains(\"ssd\", case=False))|(ol_products[\"name\"].str.contains(\"memory card\", case=False))|(ol_products[\"name\"].str.contains(\"flash drive\", case=False))|(ol_products[\"name\"].str.contains(\"tb\", case=False)))& (ol_products[\"unit_price\"] < 500), \"category\"] = \"hdd_storage\"\n",
    "#Keyboard\n",
    "ol_products.loc[(ol_products[\"name\"].str.contains(\"keyboard\", case=False)),\"category\"]=\"keyboard\"\n",
    "#Cover\n",
    "ol_products.loc[(ol_products[\"desc\"].str.contains(\"cover\", case=False)),\"category\"]=\"cover\"\n",
    "#Drone\n",
    "ol_products.loc[(ol_products[\"name\"].str.contains(\"drone\", case=False)) & (ol_products[\"unit_price\"] > 60), \"category\"] = \"drone\"\n",
    "#Router\n",
    "ol_products.loc[(ol_products[\"name\"].str.contains(\"router\", case=False)),\"category\"]=\"router\"\n",
    "#AppleCare\n",
    "ol_products.loc[(ol_products[\"name\"].str.contains(\"applecare\", case=False)),\"category\"]=\"applecare\""
   ]
  },
  {
   "cell_type": "code",
   "execution_count": 60,
   "id": "62e3cd16",
   "metadata": {},
   "outputs": [
    {
     "data": {
      "text/html": [
       "<div>\n",
       "<style scoped>\n",
       "    .dataframe tbody tr th:only-of-type {\n",
       "        vertical-align: middle;\n",
       "    }\n",
       "\n",
       "    .dataframe tbody tr th {\n",
       "        vertical-align: top;\n",
       "    }\n",
       "\n",
       "    .dataframe thead th {\n",
       "        text-align: right;\n",
       "    }\n",
       "</style>\n",
       "<table border=\"1\" class=\"dataframe\">\n",
       "  <thead>\n",
       "    <tr style=\"text-align: right;\">\n",
       "      <th></th>\n",
       "      <th>order_id</th>\n",
       "      <th>created_date</th>\n",
       "      <th>total_paid</th>\n",
       "      <th>state</th>\n",
       "    </tr>\n",
       "  </thead>\n",
       "  <tbody>\n",
       "    <tr>\n",
       "      <th>0</th>\n",
       "      <td>241319</td>\n",
       "      <td>2017-01-02 13:35:40</td>\n",
       "      <td>44.99</td>\n",
       "      <td>Cancelled</td>\n",
       "    </tr>\n",
       "    <tr>\n",
       "      <th>1</th>\n",
       "      <td>241423</td>\n",
       "      <td>2017-11-06 13:10:02</td>\n",
       "      <td>136.15</td>\n",
       "      <td>Completed</td>\n",
       "    </tr>\n",
       "    <tr>\n",
       "      <th>2</th>\n",
       "      <td>242832</td>\n",
       "      <td>2017-12-31 17:40:03</td>\n",
       "      <td>15.76</td>\n",
       "      <td>Completed</td>\n",
       "    </tr>\n",
       "    <tr>\n",
       "      <th>3</th>\n",
       "      <td>243330</td>\n",
       "      <td>2017-02-16 10:59:38</td>\n",
       "      <td>84.98</td>\n",
       "      <td>Completed</td>\n",
       "    </tr>\n",
       "    <tr>\n",
       "      <th>4</th>\n",
       "      <td>243784</td>\n",
       "      <td>2017-11-24 13:35:19</td>\n",
       "      <td>157.86</td>\n",
       "      <td>Cancelled</td>\n",
       "    </tr>\n",
       "    <tr>\n",
       "      <th>...</th>\n",
       "      <td>...</td>\n",
       "      <td>...</td>\n",
       "      <td>...</td>\n",
       "      <td>...</td>\n",
       "    </tr>\n",
       "    <tr>\n",
       "      <th>226904</th>\n",
       "      <td>527397</td>\n",
       "      <td>2018-03-14 13:56:38</td>\n",
       "      <td>42.99</td>\n",
       "      <td>Place Order</td>\n",
       "    </tr>\n",
       "    <tr>\n",
       "      <th>226905</th>\n",
       "      <td>527398</td>\n",
       "      <td>2018-03-14 13:57:25</td>\n",
       "      <td>42.99</td>\n",
       "      <td>Shopping Basket</td>\n",
       "    </tr>\n",
       "    <tr>\n",
       "      <th>226906</th>\n",
       "      <td>527399</td>\n",
       "      <td>2018-03-14 13:57:34</td>\n",
       "      <td>141.58</td>\n",
       "      <td>Shopping Basket</td>\n",
       "    </tr>\n",
       "    <tr>\n",
       "      <th>226907</th>\n",
       "      <td>527400</td>\n",
       "      <td>2018-03-14 13:57:41</td>\n",
       "      <td>19.98</td>\n",
       "      <td>Shopping Basket</td>\n",
       "    </tr>\n",
       "    <tr>\n",
       "      <th>226908</th>\n",
       "      <td>527401</td>\n",
       "      <td>2018-03-14 13:58:36</td>\n",
       "      <td>18.98</td>\n",
       "      <td>Place Order</td>\n",
       "    </tr>\n",
       "  </tbody>\n",
       "</table>\n",
       "<p>226904 rows × 4 columns</p>\n",
       "</div>"
      ],
      "text/plain": [
       "        order_id        created_date  total_paid            state\n",
       "0         241319 2017-01-02 13:35:40       44.99        Cancelled\n",
       "1         241423 2017-11-06 13:10:02      136.15        Completed\n",
       "2         242832 2017-12-31 17:40:03       15.76        Completed\n",
       "3         243330 2017-02-16 10:59:38       84.98        Completed\n",
       "4         243784 2017-11-24 13:35:19      157.86        Cancelled\n",
       "...          ...                 ...         ...              ...\n",
       "226904    527397 2018-03-14 13:56:38       42.99      Place Order\n",
       "226905    527398 2018-03-14 13:57:25       42.99  Shopping Basket\n",
       "226906    527399 2018-03-14 13:57:34      141.58  Shopping Basket\n",
       "226907    527400 2018-03-14 13:57:41       19.98  Shopping Basket\n",
       "226908    527401 2018-03-14 13:58:36       18.98      Place Order\n",
       "\n",
       "[226904 rows x 4 columns]"
      ]
     },
     "execution_count": 60,
     "metadata": {},
     "output_type": "execute_result"
    }
   ],
   "source": [
    "orders_df"
   ]
  },
  {
   "cell_type": "code",
   "execution_count": 61,
   "id": "ceee0359",
   "metadata": {},
   "outputs": [
    {
     "data": {
      "text/html": [
       "<div>\n",
       "<style scoped>\n",
       "    .dataframe tbody tr th:only-of-type {\n",
       "        vertical-align: middle;\n",
       "    }\n",
       "\n",
       "    .dataframe tbody tr th {\n",
       "        vertical-align: top;\n",
       "    }\n",
       "\n",
       "    .dataframe thead th {\n",
       "        text-align: right;\n",
       "    }\n",
       "</style>\n",
       "<table border=\"1\" class=\"dataframe\">\n",
       "  <thead>\n",
       "    <tr style=\"text-align: right;\">\n",
       "      <th></th>\n",
       "      <th>id</th>\n",
       "      <th>id_order</th>\n",
       "      <th>product_id</th>\n",
       "      <th>product_quantity</th>\n",
       "      <th>sku</th>\n",
       "      <th>unit_price</th>\n",
       "      <th>date</th>\n",
       "      <th>corrupted</th>\n",
       "      <th>unit_price_total</th>\n",
       "    </tr>\n",
       "  </thead>\n",
       "  <tbody>\n",
       "    <tr>\n",
       "      <th>7</th>\n",
       "      <td>1119116</td>\n",
       "      <td>299545</td>\n",
       "      <td>0</td>\n",
       "      <td>1</td>\n",
       "      <td>OWC0100</td>\n",
       "      <td>47.49</td>\n",
       "      <td>2017-01-01 01:46:16</td>\n",
       "      <td>False</td>\n",
       "      <td>47.49</td>\n",
       "    </tr>\n",
       "    <tr>\n",
       "      <th>8</th>\n",
       "      <td>1119119</td>\n",
       "      <td>299546</td>\n",
       "      <td>0</td>\n",
       "      <td>1</td>\n",
       "      <td>IOT0014</td>\n",
       "      <td>18.99</td>\n",
       "      <td>2017-01-01 01:50:34</td>\n",
       "      <td>False</td>\n",
       "      <td>18.99</td>\n",
       "    </tr>\n",
       "    <tr>\n",
       "      <th>9</th>\n",
       "      <td>1119120</td>\n",
       "      <td>295347</td>\n",
       "      <td>0</td>\n",
       "      <td>1</td>\n",
       "      <td>APP0700</td>\n",
       "      <td>72.19</td>\n",
       "      <td>2017-01-01 01:54:11</td>\n",
       "      <td>False</td>\n",
       "      <td>72.19</td>\n",
       "    </tr>\n",
       "    <tr>\n",
       "      <th>17</th>\n",
       "      <td>1119133</td>\n",
       "      <td>299555</td>\n",
       "      <td>0</td>\n",
       "      <td>1</td>\n",
       "      <td>BEA0065</td>\n",
       "      <td>256.49</td>\n",
       "      <td>2017-01-01 02:18:45</td>\n",
       "      <td>False</td>\n",
       "      <td>256.49</td>\n",
       "    </tr>\n",
       "    <tr>\n",
       "      <th>18</th>\n",
       "      <td>1119134</td>\n",
       "      <td>299556</td>\n",
       "      <td>0</td>\n",
       "      <td>1</td>\n",
       "      <td>CRU0039-A</td>\n",
       "      <td>60.90</td>\n",
       "      <td>2017-01-01 02:20:14</td>\n",
       "      <td>False</td>\n",
       "      <td>60.90</td>\n",
       "    </tr>\n",
       "    <tr>\n",
       "      <th>...</th>\n",
       "      <td>...</td>\n",
       "      <td>...</td>\n",
       "      <td>...</td>\n",
       "      <td>...</td>\n",
       "      <td>...</td>\n",
       "      <td>...</td>\n",
       "      <td>...</td>\n",
       "      <td>...</td>\n",
       "      <td>...</td>\n",
       "    </tr>\n",
       "    <tr>\n",
       "      <th>293973</th>\n",
       "      <td>1650193</td>\n",
       "      <td>527394</td>\n",
       "      <td>0</td>\n",
       "      <td>1</td>\n",
       "      <td>APP1922</td>\n",
       "      <td>161.00</td>\n",
       "      <td>2018-03-14 13:55:15</td>\n",
       "      <td>False</td>\n",
       "      <td>161.00</td>\n",
       "    </tr>\n",
       "    <tr>\n",
       "      <th>293975</th>\n",
       "      <td>1650195</td>\n",
       "      <td>527396</td>\n",
       "      <td>0</td>\n",
       "      <td>1</td>\n",
       "      <td>PAC0653</td>\n",
       "      <td>141.58</td>\n",
       "      <td>2018-03-14 13:55:44</td>\n",
       "      <td>False</td>\n",
       "      <td>141.58</td>\n",
       "    </tr>\n",
       "    <tr>\n",
       "      <th>293976</th>\n",
       "      <td>1650196</td>\n",
       "      <td>527384</td>\n",
       "      <td>0</td>\n",
       "      <td>1</td>\n",
       "      <td>LAC0227</td>\n",
       "      <td>249.99</td>\n",
       "      <td>2018-03-14 13:56:02</td>\n",
       "      <td>False</td>\n",
       "      <td>249.99</td>\n",
       "    </tr>\n",
       "    <tr>\n",
       "      <th>293977</th>\n",
       "      <td>1650198</td>\n",
       "      <td>527397</td>\n",
       "      <td>0</td>\n",
       "      <td>1</td>\n",
       "      <td>JBL0122</td>\n",
       "      <td>42.99</td>\n",
       "      <td>2018-03-14 13:56:38</td>\n",
       "      <td>False</td>\n",
       "      <td>42.99</td>\n",
       "    </tr>\n",
       "    <tr>\n",
       "      <th>293982</th>\n",
       "      <td>1650203</td>\n",
       "      <td>527401</td>\n",
       "      <td>0</td>\n",
       "      <td>1</td>\n",
       "      <td>APP0927</td>\n",
       "      <td>13.99</td>\n",
       "      <td>2018-03-14 13:58:36</td>\n",
       "      <td>False</td>\n",
       "      <td>13.99</td>\n",
       "    </tr>\n",
       "  </tbody>\n",
       "</table>\n",
       "<p>80782 rows × 9 columns</p>\n",
       "</div>"
      ],
      "text/plain": [
       "             id  id_order  product_id  product_quantity        sku  \\\n",
       "7       1119116    299545           0                 1    OWC0100   \n",
       "8       1119119    299546           0                 1    IOT0014   \n",
       "9       1119120    295347           0                 1    APP0700   \n",
       "17      1119133    299555           0                 1    BEA0065   \n",
       "18      1119134    299556           0                 1  CRU0039-A   \n",
       "...         ...       ...         ...               ...        ...   \n",
       "293973  1650193    527394           0                 1    APP1922   \n",
       "293975  1650195    527396           0                 1    PAC0653   \n",
       "293976  1650196    527384           0                 1    LAC0227   \n",
       "293977  1650198    527397           0                 1    JBL0122   \n",
       "293982  1650203    527401           0                 1    APP0927   \n",
       "\n",
       "        unit_price                date  corrupted  unit_price_total  \n",
       "7            47.49 2017-01-01 01:46:16      False             47.49  \n",
       "8            18.99 2017-01-01 01:50:34      False             18.99  \n",
       "9            72.19 2017-01-01 01:54:11      False             72.19  \n",
       "17          256.49 2017-01-01 02:18:45      False            256.49  \n",
       "18           60.90 2017-01-01 02:20:14      False             60.90  \n",
       "...            ...                 ...        ...               ...  \n",
       "293973      161.00 2018-03-14 13:55:15      False            161.00  \n",
       "293975      141.58 2018-03-14 13:55:44      False            141.58  \n",
       "293976      249.99 2018-03-14 13:56:02      False            249.99  \n",
       "293977       42.99 2018-03-14 13:56:38      False             42.99  \n",
       "293982       13.99 2018-03-14 13:58:36      False             13.99  \n",
       "\n",
       "[80782 rows x 9 columns]"
      ]
     },
     "execution_count": 61,
     "metadata": {},
     "output_type": "execute_result"
    }
   ],
   "source": [
    "ol_good"
   ]
  },
  {
   "cell_type": "code",
   "execution_count": 62,
   "id": "36dc2f57",
   "metadata": {},
   "outputs": [
    {
     "data": {
      "text/html": [
       "<div>\n",
       "<style scoped>\n",
       "    .dataframe tbody tr th:only-of-type {\n",
       "        vertical-align: middle;\n",
       "    }\n",
       "\n",
       "    .dataframe tbody tr th {\n",
       "        vertical-align: top;\n",
       "    }\n",
       "\n",
       "    .dataframe thead th {\n",
       "        text-align: right;\n",
       "    }\n",
       "</style>\n",
       "<table border=\"1\" class=\"dataframe\">\n",
       "  <thead>\n",
       "    <tr style=\"text-align: right;\">\n",
       "      <th></th>\n",
       "      <th>unit_price_total</th>\n",
       "      <th>order_id</th>\n",
       "      <th>created_date</th>\n",
       "      <th>total_paid</th>\n",
       "      <th>state</th>\n",
       "      <th>diff</th>\n",
       "    </tr>\n",
       "  </thead>\n",
       "  <tbody>\n",
       "    <tr>\n",
       "      <th>81</th>\n",
       "      <td>66.49</td>\n",
       "      <td>293308</td>\n",
       "      <td>2017-01-01 13:33:43</td>\n",
       "      <td>2635.47</td>\n",
       "      <td>Completed</td>\n",
       "      <td>2568.98</td>\n",
       "    </tr>\n",
       "  </tbody>\n",
       "</table>\n",
       "</div>"
      ],
      "text/plain": [
       "    unit_price_total  order_id        created_date  total_paid      state  \\\n",
       "81             66.49    293308 2017-01-01 13:33:43     2635.47  Completed   \n",
       "\n",
       "      diff  \n",
       "81 2568.98  "
      ]
     },
     "execution_count": 62,
     "metadata": {},
     "output_type": "execute_result"
    }
   ],
   "source": [
    "o_ol_merge.loc[o_ol_merge[\"order_id\"]==293308]"
   ]
  },
  {
   "cell_type": "code",
   "execution_count": 63,
   "id": "db591076",
   "metadata": {},
   "outputs": [
    {
     "data": {
      "text/plain": [
       "unit_price_total    58\n",
       "order_id            58\n",
       "created_date        58\n",
       "total_paid          58\n",
       "state               58\n",
       "diff                58\n",
       "dtype: int64"
      ]
     },
     "execution_count": 63,
     "metadata": {},
     "output_type": "execute_result"
    }
   ],
   "source": [
    "o_ol_merge.loc[(o_ol_merge[\"diff\"]>20)].count()"
   ]
  },
  {
   "cell_type": "code",
   "execution_count": 64,
   "id": "a88d6f37",
   "metadata": {},
   "outputs": [
    {
     "data": {
      "text/html": [
       "<div>\n",
       "<style scoped>\n",
       "    .dataframe tbody tr th:only-of-type {\n",
       "        vertical-align: middle;\n",
       "    }\n",
       "\n",
       "    .dataframe tbody tr th {\n",
       "        vertical-align: top;\n",
       "    }\n",
       "\n",
       "    .dataframe thead th {\n",
       "        text-align: right;\n",
       "    }\n",
       "</style>\n",
       "<table border=\"1\" class=\"dataframe\">\n",
       "  <thead>\n",
       "    <tr style=\"text-align: right;\">\n",
       "      <th></th>\n",
       "      <th>id</th>\n",
       "      <th>id_order</th>\n",
       "      <th>product_id</th>\n",
       "      <th>product_quantity</th>\n",
       "      <th>sku</th>\n",
       "      <th>unit_price</th>\n",
       "      <th>date</th>\n",
       "      <th>corrupted</th>\n",
       "    </tr>\n",
       "  </thead>\n",
       "  <tbody>\n",
       "    <tr>\n",
       "      <th>185</th>\n",
       "      <td>1119451</td>\n",
       "      <td>293308</td>\n",
       "      <td>0</td>\n",
       "      <td>1</td>\n",
       "      <td>HGD0007</td>\n",
       "      <td>66.49</td>\n",
       "      <td>2017-01-01 13:29:10</td>\n",
       "      <td>False</td>\n",
       "    </tr>\n",
       "  </tbody>\n",
       "</table>\n",
       "</div>"
      ],
      "text/plain": [
       "          id  id_order  product_id  product_quantity      sku  unit_price  \\\n",
       "185  1119451    293308           0                 1  HGD0007       66.49   \n",
       "\n",
       "                   date  corrupted  \n",
       "185 2017-01-01 13:29:10      False  "
      ]
     },
     "execution_count": 64,
     "metadata": {},
     "output_type": "execute_result"
    }
   ],
   "source": [
    "ol_clean.loc[ol_clean[\"id_order\"]==293308]"
   ]
  },
  {
   "cell_type": "code",
   "execution_count": 65,
   "id": "9da8ae06",
   "metadata": {},
   "outputs": [
    {
     "data": {
      "text/html": [
       "<div>\n",
       "<style scoped>\n",
       "    .dataframe tbody tr th:only-of-type {\n",
       "        vertical-align: middle;\n",
       "    }\n",
       "\n",
       "    .dataframe tbody tr th {\n",
       "        vertical-align: top;\n",
       "    }\n",
       "\n",
       "    .dataframe thead th {\n",
       "        text-align: right;\n",
       "    }\n",
       "</style>\n",
       "<table border=\"1\" class=\"dataframe\">\n",
       "  <thead>\n",
       "    <tr style=\"text-align: right;\">\n",
       "      <th></th>\n",
       "      <th>id</th>\n",
       "      <th>id_order</th>\n",
       "      <th>product_id</th>\n",
       "      <th>product_quantity</th>\n",
       "      <th>sku</th>\n",
       "      <th>unit_price</th>\n",
       "      <th>date</th>\n",
       "      <th>corrupted</th>\n",
       "    </tr>\n",
       "  </thead>\n",
       "  <tbody>\n",
       "    <tr>\n",
       "      <th>7</th>\n",
       "      <td>1119116</td>\n",
       "      <td>299545</td>\n",
       "      <td>0</td>\n",
       "      <td>1</td>\n",
       "      <td>OWC0100</td>\n",
       "      <td>47.49</td>\n",
       "      <td>2017-01-01 01:46:16</td>\n",
       "      <td>False</td>\n",
       "    </tr>\n",
       "    <tr>\n",
       "      <th>8</th>\n",
       "      <td>1119119</td>\n",
       "      <td>299546</td>\n",
       "      <td>0</td>\n",
       "      <td>1</td>\n",
       "      <td>IOT0014</td>\n",
       "      <td>18.99</td>\n",
       "      <td>2017-01-01 01:50:34</td>\n",
       "      <td>False</td>\n",
       "    </tr>\n",
       "    <tr>\n",
       "      <th>9</th>\n",
       "      <td>1119120</td>\n",
       "      <td>295347</td>\n",
       "      <td>0</td>\n",
       "      <td>1</td>\n",
       "      <td>APP0700</td>\n",
       "      <td>72.19</td>\n",
       "      <td>2017-01-01 01:54:11</td>\n",
       "      <td>False</td>\n",
       "    </tr>\n",
       "    <tr>\n",
       "      <th>17</th>\n",
       "      <td>1119133</td>\n",
       "      <td>299555</td>\n",
       "      <td>0</td>\n",
       "      <td>1</td>\n",
       "      <td>BEA0065</td>\n",
       "      <td>256.49</td>\n",
       "      <td>2017-01-01 02:18:45</td>\n",
       "      <td>False</td>\n",
       "    </tr>\n",
       "    <tr>\n",
       "      <th>18</th>\n",
       "      <td>1119134</td>\n",
       "      <td>299556</td>\n",
       "      <td>0</td>\n",
       "      <td>1</td>\n",
       "      <td>CRU0039-A</td>\n",
       "      <td>60.90</td>\n",
       "      <td>2017-01-01 02:20:14</td>\n",
       "      <td>False</td>\n",
       "    </tr>\n",
       "    <tr>\n",
       "      <th>...</th>\n",
       "      <td>...</td>\n",
       "      <td>...</td>\n",
       "      <td>...</td>\n",
       "      <td>...</td>\n",
       "      <td>...</td>\n",
       "      <td>...</td>\n",
       "      <td>...</td>\n",
       "      <td>...</td>\n",
       "    </tr>\n",
       "    <tr>\n",
       "      <th>293973</th>\n",
       "      <td>1650193</td>\n",
       "      <td>527394</td>\n",
       "      <td>0</td>\n",
       "      <td>1</td>\n",
       "      <td>APP1922</td>\n",
       "      <td>161.00</td>\n",
       "      <td>2018-03-14 13:55:15</td>\n",
       "      <td>False</td>\n",
       "    </tr>\n",
       "    <tr>\n",
       "      <th>293975</th>\n",
       "      <td>1650195</td>\n",
       "      <td>527396</td>\n",
       "      <td>0</td>\n",
       "      <td>1</td>\n",
       "      <td>PAC0653</td>\n",
       "      <td>141.58</td>\n",
       "      <td>2018-03-14 13:55:44</td>\n",
       "      <td>False</td>\n",
       "    </tr>\n",
       "    <tr>\n",
       "      <th>293976</th>\n",
       "      <td>1650196</td>\n",
       "      <td>527384</td>\n",
       "      <td>0</td>\n",
       "      <td>1</td>\n",
       "      <td>LAC0227</td>\n",
       "      <td>249.99</td>\n",
       "      <td>2018-03-14 13:56:02</td>\n",
       "      <td>False</td>\n",
       "    </tr>\n",
       "    <tr>\n",
       "      <th>293977</th>\n",
       "      <td>1650198</td>\n",
       "      <td>527397</td>\n",
       "      <td>0</td>\n",
       "      <td>1</td>\n",
       "      <td>JBL0122</td>\n",
       "      <td>42.99</td>\n",
       "      <td>2018-03-14 13:56:38</td>\n",
       "      <td>False</td>\n",
       "    </tr>\n",
       "    <tr>\n",
       "      <th>293982</th>\n",
       "      <td>1650203</td>\n",
       "      <td>527401</td>\n",
       "      <td>0</td>\n",
       "      <td>1</td>\n",
       "      <td>APP0927</td>\n",
       "      <td>13.99</td>\n",
       "      <td>2018-03-14 13:58:36</td>\n",
       "      <td>False</td>\n",
       "    </tr>\n",
       "  </tbody>\n",
       "</table>\n",
       "<p>84285 rows × 8 columns</p>\n",
       "</div>"
      ],
      "text/plain": [
       "             id  id_order  product_id  product_quantity        sku  \\\n",
       "7       1119116    299545           0                 1    OWC0100   \n",
       "8       1119119    299546           0                 1    IOT0014   \n",
       "9       1119120    295347           0                 1    APP0700   \n",
       "17      1119133    299555           0                 1    BEA0065   \n",
       "18      1119134    299556           0                 1  CRU0039-A   \n",
       "...         ...       ...         ...               ...        ...   \n",
       "293973  1650193    527394           0                 1    APP1922   \n",
       "293975  1650195    527396           0                 1    PAC0653   \n",
       "293976  1650196    527384           0                 1    LAC0227   \n",
       "293977  1650198    527397           0                 1    JBL0122   \n",
       "293982  1650203    527401           0                 1    APP0927   \n",
       "\n",
       "        unit_price                date  corrupted  \n",
       "7            47.49 2017-01-01 01:46:16      False  \n",
       "8            18.99 2017-01-01 01:50:34      False  \n",
       "9            72.19 2017-01-01 01:54:11      False  \n",
       "17          256.49 2017-01-01 02:18:45      False  \n",
       "18           60.90 2017-01-01 02:20:14      False  \n",
       "...            ...                 ...        ...  \n",
       "293973      161.00 2018-03-14 13:55:15      False  \n",
       "293975      141.58 2018-03-14 13:55:44      False  \n",
       "293976      249.99 2018-03-14 13:56:02      False  \n",
       "293977       42.99 2018-03-14 13:56:38      False  \n",
       "293982       13.99 2018-03-14 13:58:36      False  \n",
       "\n",
       "[84285 rows x 8 columns]"
      ]
     },
     "execution_count": 65,
     "metadata": {},
     "output_type": "execute_result"
    }
   ],
   "source": [
    "ol_clean"
   ]
  },
  {
   "cell_type": "code",
   "execution_count": 66,
   "id": "2550666e",
   "metadata": {},
   "outputs": [],
   "source": [
    "# your code here\n",
    "Q1 = o_ol_merge[\"diff\"].quantile(0.25)\n",
    "Q3 = o_ol_merge[\"diff\"].quantile(0.75)\n",
    "# calculate the interquartile range\n",
    "IQR = Q3-Q1\n",
    "# filter the DataFrame to include only \"non-outliers\"\n",
    "diff_no_outliers_df = o_ol_merge.loc[(o_ol_merge[\"diff\"] >= (Q1 - 1.5*IQR)) & (o_ol_merge[\"diff\"] <= (Q3 + 1.5*IQR)), :]"
   ]
  },
  {
   "cell_type": "code",
   "execution_count": 67,
   "id": "bb4523c2",
   "metadata": {},
   "outputs": [
    {
     "data": {
      "text/html": [
       "<div>\n",
       "<style scoped>\n",
       "    .dataframe tbody tr th:only-of-type {\n",
       "        vertical-align: middle;\n",
       "    }\n",
       "\n",
       "    .dataframe tbody tr th {\n",
       "        vertical-align: top;\n",
       "    }\n",
       "\n",
       "    .dataframe thead th {\n",
       "        text-align: right;\n",
       "    }\n",
       "</style>\n",
       "<table border=\"1\" class=\"dataframe\">\n",
       "  <thead>\n",
       "    <tr style=\"text-align: right;\">\n",
       "      <th></th>\n",
       "      <th>unit_price_total</th>\n",
       "      <th>order_id</th>\n",
       "      <th>created_date</th>\n",
       "      <th>total_paid</th>\n",
       "      <th>state</th>\n",
       "      <th>diff</th>\n",
       "    </tr>\n",
       "  </thead>\n",
       "  <tbody>\n",
       "    <tr>\n",
       "      <th>0</th>\n",
       "      <td>129.16</td>\n",
       "      <td>241423</td>\n",
       "      <td>2017-11-06 13:10:02</td>\n",
       "      <td>136.15</td>\n",
       "      <td>Completed</td>\n",
       "      <td>6.99</td>\n",
       "    </tr>\n",
       "    <tr>\n",
       "      <th>1</th>\n",
       "      <td>10.77</td>\n",
       "      <td>242832</td>\n",
       "      <td>2017-12-31 17:40:03</td>\n",
       "      <td>15.76</td>\n",
       "      <td>Completed</td>\n",
       "      <td>4.99</td>\n",
       "    </tr>\n",
       "    <tr>\n",
       "      <th>2</th>\n",
       "      <td>77.99</td>\n",
       "      <td>243330</td>\n",
       "      <td>2017-02-16 10:59:38</td>\n",
       "      <td>84.98</td>\n",
       "      <td>Completed</td>\n",
       "      <td>6.99</td>\n",
       "    </tr>\n",
       "    <tr>\n",
       "      <th>3</th>\n",
       "      <td>149.00</td>\n",
       "      <td>245275</td>\n",
       "      <td>2017-06-28 11:35:37</td>\n",
       "      <td>149.00</td>\n",
       "      <td>Completed</td>\n",
       "      <td>0.00</td>\n",
       "    </tr>\n",
       "    <tr>\n",
       "      <th>4</th>\n",
       "      <td>105.98</td>\n",
       "      <td>245595</td>\n",
       "      <td>2017-01-21 12:52:47</td>\n",
       "      <td>112.97</td>\n",
       "      <td>Completed</td>\n",
       "      <td>6.99</td>\n",
       "    </tr>\n",
       "    <tr>\n",
       "      <th>...</th>\n",
       "      <td>...</td>\n",
       "      <td>...</td>\n",
       "      <td>...</td>\n",
       "      <td>...</td>\n",
       "      <td>...</td>\n",
       "      <td>...</td>\n",
       "    </tr>\n",
       "    <tr>\n",
       "      <th>64482</th>\n",
       "      <td>161.00</td>\n",
       "      <td>527386</td>\n",
       "      <td>2018-03-14 13:49:48</td>\n",
       "      <td>161.00</td>\n",
       "      <td>Place Order</td>\n",
       "      <td>0.00</td>\n",
       "    </tr>\n",
       "    <tr>\n",
       "      <th>64483</th>\n",
       "      <td>161.00</td>\n",
       "      <td>527394</td>\n",
       "      <td>2018-03-14 13:55:15</td>\n",
       "      <td>161.00</td>\n",
       "      <td>Place Order</td>\n",
       "      <td>0.00</td>\n",
       "    </tr>\n",
       "    <tr>\n",
       "      <th>64484</th>\n",
       "      <td>141.58</td>\n",
       "      <td>527396</td>\n",
       "      <td>2018-03-14 13:55:44</td>\n",
       "      <td>141.58</td>\n",
       "      <td>Place Order</td>\n",
       "      <td>0.00</td>\n",
       "    </tr>\n",
       "    <tr>\n",
       "      <th>64485</th>\n",
       "      <td>42.99</td>\n",
       "      <td>527397</td>\n",
       "      <td>2018-03-14 13:56:38</td>\n",
       "      <td>42.99</td>\n",
       "      <td>Place Order</td>\n",
       "      <td>0.00</td>\n",
       "    </tr>\n",
       "    <tr>\n",
       "      <th>64486</th>\n",
       "      <td>13.99</td>\n",
       "      <td>527401</td>\n",
       "      <td>2018-03-14 13:58:36</td>\n",
       "      <td>18.98</td>\n",
       "      <td>Place Order</td>\n",
       "      <td>4.99</td>\n",
       "    </tr>\n",
       "  </tbody>\n",
       "</table>\n",
       "<p>63141 rows × 6 columns</p>\n",
       "</div>"
      ],
      "text/plain": [
       "       unit_price_total  order_id        created_date  total_paid  \\\n",
       "0                129.16    241423 2017-11-06 13:10:02      136.15   \n",
       "1                 10.77    242832 2017-12-31 17:40:03       15.76   \n",
       "2                 77.99    243330 2017-02-16 10:59:38       84.98   \n",
       "3                149.00    245275 2017-06-28 11:35:37      149.00   \n",
       "4                105.98    245595 2017-01-21 12:52:47      112.97   \n",
       "...                 ...       ...                 ...         ...   \n",
       "64482            161.00    527386 2018-03-14 13:49:48      161.00   \n",
       "64483            161.00    527394 2018-03-14 13:55:15      161.00   \n",
       "64484            141.58    527396 2018-03-14 13:55:44      141.58   \n",
       "64485             42.99    527397 2018-03-14 13:56:38       42.99   \n",
       "64486             13.99    527401 2018-03-14 13:58:36       18.98   \n",
       "\n",
       "             state  diff  \n",
       "0        Completed  6.99  \n",
       "1        Completed  4.99  \n",
       "2        Completed  6.99  \n",
       "3        Completed  0.00  \n",
       "4        Completed  6.99  \n",
       "...            ...   ...  \n",
       "64482  Place Order  0.00  \n",
       "64483  Place Order  0.00  \n",
       "64484  Place Order  0.00  \n",
       "64485  Place Order  0.00  \n",
       "64486  Place Order  4.99  \n",
       "\n",
       "[63141 rows x 6 columns]"
      ]
     },
     "execution_count": 67,
     "metadata": {},
     "output_type": "execute_result"
    }
   ],
   "source": [
    "diff_no_outliers_df"
   ]
  },
  {
   "cell_type": "markdown",
   "id": "d77e97bd",
   "metadata": {},
   "source": [
    "# Tables we have right now \n",
    "#### ol_good , orders_good and products_df"
   ]
  },
  {
   "cell_type": "code",
   "execution_count": 68,
   "id": "5333667c",
   "metadata": {},
   "outputs": [],
   "source": [
    "#First we merge Orderlines with products to get product info\n",
    "ol_products=pd.merge(ol_good,products_df,on=\"sku\",how=\"left\")"
   ]
  },
  {
   "cell_type": "code",
   "execution_count": 69,
   "id": "46c0c2fe",
   "metadata": {},
   "outputs": [],
   "source": [
    "ol_products.drop([\"product_id\",\"promo_price\",\"in_stock\",\"type\"],axis=1,inplace=True)"
   ]
  },
  {
   "cell_type": "code",
   "execution_count": 70,
   "id": "68e3e686",
   "metadata": {},
   "outputs": [],
   "source": [
    "ol_products[\"discounts\"]=ol_products[\"price\"]-ol_products[\"unit_price\"]\n",
    "ol_products[\"dis_percent\"]=100-(ol_products[\"unit_price\"]/ol_products[\"price\"]*100)"
   ]
  },
  {
   "cell_type": "code",
   "execution_count": 71,
   "id": "f3aeb38e",
   "metadata": {},
   "outputs": [],
   "source": [
    "#We merge OL_products to orders\n",
    "master = pd.merge(ol_products.groupby('id_order')[['unit_price_total',\"price\",\"discounts\"]].sum(),\n",
    "                      orders_good,\n",
    "                      left_on = 'id_order',\n",
    "                      right_on = 'order_id')"
   ]
  },
  {
   "cell_type": "code",
   "execution_count": 72,
   "id": "d982c2dc",
   "metadata": {},
   "outputs": [],
   "source": [
    "discounts_percent_mean = ol_products.groupby('id_order')['dis_percent'].mean()"
   ]
  },
  {
   "cell_type": "code",
   "execution_count": 73,
   "id": "656c4f4a",
   "metadata": {},
   "outputs": [],
   "source": [
    "master[\"diff\"]=master[\"total_paid\"]-master[\"unit_price_total\"]"
   ]
  },
  {
   "cell_type": "code",
   "execution_count": 74,
   "id": "e0b08b54",
   "metadata": {},
   "outputs": [],
   "source": [
    "column_order = ['order_id','created_date','unit_price_total', 'total_paid','price','diff','discounts','state']\n",
    "master = master.reindex(columns=column_order)"
   ]
  },
  {
   "cell_type": "code",
   "execution_count": 75,
   "id": "8cb7ba06",
   "metadata": {},
   "outputs": [],
   "source": [
    "master['discounts_percent'] = master['order_id'].map(discounts_percent_mean)"
   ]
  },
  {
   "cell_type": "code",
   "execution_count": 76,
   "id": "6704726d",
   "metadata": {},
   "outputs": [],
   "source": [
    "# Removing the bad stuff - Sama's code\n",
    "Q1 = master[\"diff\"].quantile(0.25)\n",
    "Q3 = master[\"diff\"].quantile(0.75)\n",
    "# calculate the interquartile range\n",
    "IQR = Q3-Q1\n",
    "# filter the DataFrame to include only \"non-outliers\"\n",
    "new_master = master.loc[(master[\"diff\"] >= (Q1 - 1.5*IQR)) & (master[\"diff\"] <= (Q3 + 1.5*IQR)), :]"
   ]
  },
  {
   "cell_type": "code",
   "execution_count": 77,
   "id": "09749d3e",
   "metadata": {},
   "outputs": [
    {
     "data": {
      "text/html": [
       "<div>\n",
       "<style scoped>\n",
       "    .dataframe tbody tr th:only-of-type {\n",
       "        vertical-align: middle;\n",
       "    }\n",
       "\n",
       "    .dataframe tbody tr th {\n",
       "        vertical-align: top;\n",
       "    }\n",
       "\n",
       "    .dataframe thead th {\n",
       "        text-align: right;\n",
       "    }\n",
       "</style>\n",
       "<table border=\"1\" class=\"dataframe\">\n",
       "  <thead>\n",
       "    <tr style=\"text-align: right;\">\n",
       "      <th></th>\n",
       "      <th>order_id</th>\n",
       "      <th>created_date</th>\n",
       "      <th>unit_price_total</th>\n",
       "      <th>total_paid</th>\n",
       "      <th>price</th>\n",
       "      <th>diff</th>\n",
       "      <th>discounts</th>\n",
       "      <th>state</th>\n",
       "      <th>discounts_percent</th>\n",
       "    </tr>\n",
       "  </thead>\n",
       "  <tbody>\n",
       "    <tr>\n",
       "      <th>0</th>\n",
       "      <td>241423</td>\n",
       "      <td>2017-11-06 13:10:02</td>\n",
       "      <td>129.16</td>\n",
       "      <td>136.15</td>\n",
       "      <td>139.99</td>\n",
       "      <td>6.99</td>\n",
       "      <td>10.83</td>\n",
       "      <td>Completed</td>\n",
       "      <td>7.74</td>\n",
       "    </tr>\n",
       "    <tr>\n",
       "      <th>1</th>\n",
       "      <td>242832</td>\n",
       "      <td>2017-12-31 17:40:03</td>\n",
       "      <td>10.77</td>\n",
       "      <td>15.76</td>\n",
       "      <td>17.99</td>\n",
       "      <td>4.99</td>\n",
       "      <td>7.22</td>\n",
       "      <td>Completed</td>\n",
       "      <td>40.13</td>\n",
       "    </tr>\n",
       "    <tr>\n",
       "      <th>2</th>\n",
       "      <td>243330</td>\n",
       "      <td>2017-02-16 10:59:38</td>\n",
       "      <td>77.99</td>\n",
       "      <td>84.98</td>\n",
       "      <td>99.99</td>\n",
       "      <td>6.99</td>\n",
       "      <td>22.00</td>\n",
       "      <td>Completed</td>\n",
       "      <td>22.00</td>\n",
       "    </tr>\n",
       "    <tr>\n",
       "      <th>3</th>\n",
       "      <td>245275</td>\n",
       "      <td>2017-06-28 11:35:37</td>\n",
       "      <td>149.00</td>\n",
       "      <td>149.00</td>\n",
       "      <td>179.00</td>\n",
       "      <td>0.00</td>\n",
       "      <td>30.00</td>\n",
       "      <td>Completed</td>\n",
       "      <td>16.76</td>\n",
       "    </tr>\n",
       "    <tr>\n",
       "      <th>4</th>\n",
       "      <td>245595</td>\n",
       "      <td>2017-01-21 12:52:47</td>\n",
       "      <td>105.98</td>\n",
       "      <td>112.97</td>\n",
       "      <td>103.95</td>\n",
       "      <td>6.99</td>\n",
       "      <td>50.96</td>\n",
       "      <td>Completed</td>\n",
       "      <td>49.02</td>\n",
       "    </tr>\n",
       "    <tr>\n",
       "      <th>...</th>\n",
       "      <td>...</td>\n",
       "      <td>...</td>\n",
       "      <td>...</td>\n",
       "      <td>...</td>\n",
       "      <td>...</td>\n",
       "      <td>...</td>\n",
       "      <td>...</td>\n",
       "      <td>...</td>\n",
       "      <td>...</td>\n",
       "    </tr>\n",
       "    <tr>\n",
       "      <th>64482</th>\n",
       "      <td>527386</td>\n",
       "      <td>2018-03-14 13:49:48</td>\n",
       "      <td>161.00</td>\n",
       "      <td>161.00</td>\n",
       "      <td>179.00</td>\n",
       "      <td>0.00</td>\n",
       "      <td>18.00</td>\n",
       "      <td>Place Order</td>\n",
       "      <td>10.06</td>\n",
       "    </tr>\n",
       "    <tr>\n",
       "      <th>64483</th>\n",
       "      <td>527394</td>\n",
       "      <td>2018-03-14 13:55:15</td>\n",
       "      <td>161.00</td>\n",
       "      <td>161.00</td>\n",
       "      <td>179.00</td>\n",
       "      <td>0.00</td>\n",
       "      <td>18.00</td>\n",
       "      <td>Place Order</td>\n",
       "      <td>10.06</td>\n",
       "    </tr>\n",
       "    <tr>\n",
       "      <th>64484</th>\n",
       "      <td>527396</td>\n",
       "      <td>2018-03-14 13:55:44</td>\n",
       "      <td>141.58</td>\n",
       "      <td>141.58</td>\n",
       "      <td>215.98</td>\n",
       "      <td>0.00</td>\n",
       "      <td>74.40</td>\n",
       "      <td>Place Order</td>\n",
       "      <td>34.45</td>\n",
       "    </tr>\n",
       "    <tr>\n",
       "      <th>64485</th>\n",
       "      <td>527397</td>\n",
       "      <td>2018-03-14 13:56:38</td>\n",
       "      <td>42.99</td>\n",
       "      <td>42.99</td>\n",
       "      <td>49.95</td>\n",
       "      <td>0.00</td>\n",
       "      <td>6.96</td>\n",
       "      <td>Place Order</td>\n",
       "      <td>13.93</td>\n",
       "    </tr>\n",
       "    <tr>\n",
       "      <th>64486</th>\n",
       "      <td>527401</td>\n",
       "      <td>2018-03-14 13:58:36</td>\n",
       "      <td>13.99</td>\n",
       "      <td>18.98</td>\n",
       "      <td>35.00</td>\n",
       "      <td>4.99</td>\n",
       "      <td>21.01</td>\n",
       "      <td>Place Order</td>\n",
       "      <td>60.03</td>\n",
       "    </tr>\n",
       "  </tbody>\n",
       "</table>\n",
       "<p>63141 rows × 9 columns</p>\n",
       "</div>"
      ],
      "text/plain": [
       "       order_id        created_date  unit_price_total  total_paid  price  \\\n",
       "0        241423 2017-11-06 13:10:02            129.16      136.15 139.99   \n",
       "1        242832 2017-12-31 17:40:03             10.77       15.76  17.99   \n",
       "2        243330 2017-02-16 10:59:38             77.99       84.98  99.99   \n",
       "3        245275 2017-06-28 11:35:37            149.00      149.00 179.00   \n",
       "4        245595 2017-01-21 12:52:47            105.98      112.97 103.95   \n",
       "...         ...                 ...               ...         ...    ...   \n",
       "64482    527386 2018-03-14 13:49:48            161.00      161.00 179.00   \n",
       "64483    527394 2018-03-14 13:55:15            161.00      161.00 179.00   \n",
       "64484    527396 2018-03-14 13:55:44            141.58      141.58 215.98   \n",
       "64485    527397 2018-03-14 13:56:38             42.99       42.99  49.95   \n",
       "64486    527401 2018-03-14 13:58:36             13.99       18.98  35.00   \n",
       "\n",
       "       diff  discounts        state  discounts_percent  \n",
       "0      6.99      10.83    Completed               7.74  \n",
       "1      4.99       7.22    Completed              40.13  \n",
       "2      6.99      22.00    Completed              22.00  \n",
       "3      0.00      30.00    Completed              16.76  \n",
       "4      6.99      50.96    Completed              49.02  \n",
       "...     ...        ...          ...                ...  \n",
       "64482  0.00      18.00  Place Order              10.06  \n",
       "64483  0.00      18.00  Place Order              10.06  \n",
       "64484  0.00      74.40  Place Order              34.45  \n",
       "64485  0.00       6.96  Place Order              13.93  \n",
       "64486  4.99      21.01  Place Order              60.03  \n",
       "\n",
       "[63141 rows x 9 columns]"
      ]
     },
     "execution_count": 77,
     "metadata": {},
     "output_type": "execute_result"
    }
   ],
   "source": [
    "new_master\n"
   ]
  },
  {
   "cell_type": "code",
   "execution_count": 78,
   "id": "23ee6349",
   "metadata": {},
   "outputs": [
    {
     "data": {
      "text/plain": [
       "count   63141.00\n",
       "mean        3.13\n",
       "std         2.98\n",
       "min        -5.00\n",
       "25%         0.00\n",
       "50%         3.99\n",
       "75%         4.99\n",
       "max        11.99\n",
       "Name: diff, dtype: float64"
      ]
     },
     "execution_count": 78,
     "metadata": {},
     "output_type": "execute_result"
    }
   ],
   "source": [
    "new_master[\"diff\"].describe()"
   ]
  },
  {
   "cell_type": "code",
   "execution_count": 79,
   "id": "5a1c21f2",
   "metadata": {},
   "outputs": [],
   "source": [
    "ol_products[\"symbol\"]=ol_products[\"sku\"].str[:3]"
   ]
  },
  {
   "cell_type": "code",
   "execution_count": 80,
   "id": "737f618b",
   "metadata": {},
   "outputs": [],
   "source": [
    "ol_products_full=pd.merge(ol_products,brands,left_on=\"symbol\",right_on=\"short\",how=\"left\")"
   ]
  },
  {
   "cell_type": "code",
   "execution_count": 81,
   "id": "bd68c734",
   "metadata": {},
   "outputs": [],
   "source": [
    "ol_products_full.drop([\"short\"],axis=1,inplace=True)"
   ]
  },
  {
   "cell_type": "code",
   "execution_count": 82,
   "id": "c4850e24",
   "metadata": {},
   "outputs": [],
   "source": [
    "ol_products_full.rename(columns={\"long\": \"brand\"},inplace=True)\n"
   ]
  },
  {
   "cell_type": "markdown",
   "id": "55278416",
   "metadata": {},
   "source": [
    "### Now that we have all the required data in the right order, we can create graphs\n",
    "### The files presently are called \n",
    "## ol_products_full and new_master"
   ]
  },
  {
   "cell_type": "code",
   "execution_count": 83,
   "id": "83ced70f",
   "metadata": {},
   "outputs": [
    {
     "data": {
      "text/html": [
       "<div>\n",
       "<style scoped>\n",
       "    .dataframe tbody tr th:only-of-type {\n",
       "        vertical-align: middle;\n",
       "    }\n",
       "\n",
       "    .dataframe tbody tr th {\n",
       "        vertical-align: top;\n",
       "    }\n",
       "\n",
       "    .dataframe thead th {\n",
       "        text-align: right;\n",
       "    }\n",
       "</style>\n",
       "<table border=\"1\" class=\"dataframe\">\n",
       "  <thead>\n",
       "    <tr style=\"text-align: right;\">\n",
       "      <th></th>\n",
       "      <th>order_id</th>\n",
       "      <th>created_date</th>\n",
       "      <th>unit_price_total</th>\n",
       "      <th>total_paid</th>\n",
       "      <th>price</th>\n",
       "      <th>diff</th>\n",
       "      <th>discounts</th>\n",
       "      <th>state</th>\n",
       "      <th>discounts_percent</th>\n",
       "    </tr>\n",
       "  </thead>\n",
       "  <tbody>\n",
       "    <tr>\n",
       "      <th>0</th>\n",
       "      <td>241423</td>\n",
       "      <td>2017-11-06 13:10:02</td>\n",
       "      <td>129.16</td>\n",
       "      <td>136.15</td>\n",
       "      <td>139.99</td>\n",
       "      <td>6.99</td>\n",
       "      <td>10.83</td>\n",
       "      <td>Completed</td>\n",
       "      <td>7.74</td>\n",
       "    </tr>\n",
       "    <tr>\n",
       "      <th>1</th>\n",
       "      <td>242832</td>\n",
       "      <td>2017-12-31 17:40:03</td>\n",
       "      <td>10.77</td>\n",
       "      <td>15.76</td>\n",
       "      <td>17.99</td>\n",
       "      <td>4.99</td>\n",
       "      <td>7.22</td>\n",
       "      <td>Completed</td>\n",
       "      <td>40.13</td>\n",
       "    </tr>\n",
       "    <tr>\n",
       "      <th>2</th>\n",
       "      <td>243330</td>\n",
       "      <td>2017-02-16 10:59:38</td>\n",
       "      <td>77.99</td>\n",
       "      <td>84.98</td>\n",
       "      <td>99.99</td>\n",
       "      <td>6.99</td>\n",
       "      <td>22.00</td>\n",
       "      <td>Completed</td>\n",
       "      <td>22.00</td>\n",
       "    </tr>\n",
       "    <tr>\n",
       "      <th>3</th>\n",
       "      <td>245275</td>\n",
       "      <td>2017-06-28 11:35:37</td>\n",
       "      <td>149.00</td>\n",
       "      <td>149.00</td>\n",
       "      <td>179.00</td>\n",
       "      <td>0.00</td>\n",
       "      <td>30.00</td>\n",
       "      <td>Completed</td>\n",
       "      <td>16.76</td>\n",
       "    </tr>\n",
       "    <tr>\n",
       "      <th>4</th>\n",
       "      <td>245595</td>\n",
       "      <td>2017-01-21 12:52:47</td>\n",
       "      <td>105.98</td>\n",
       "      <td>112.97</td>\n",
       "      <td>103.95</td>\n",
       "      <td>6.99</td>\n",
       "      <td>50.96</td>\n",
       "      <td>Completed</td>\n",
       "      <td>49.02</td>\n",
       "    </tr>\n",
       "    <tr>\n",
       "      <th>...</th>\n",
       "      <td>...</td>\n",
       "      <td>...</td>\n",
       "      <td>...</td>\n",
       "      <td>...</td>\n",
       "      <td>...</td>\n",
       "      <td>...</td>\n",
       "      <td>...</td>\n",
       "      <td>...</td>\n",
       "      <td>...</td>\n",
       "    </tr>\n",
       "    <tr>\n",
       "      <th>64482</th>\n",
       "      <td>527386</td>\n",
       "      <td>2018-03-14 13:49:48</td>\n",
       "      <td>161.00</td>\n",
       "      <td>161.00</td>\n",
       "      <td>179.00</td>\n",
       "      <td>0.00</td>\n",
       "      <td>18.00</td>\n",
       "      <td>Place Order</td>\n",
       "      <td>10.06</td>\n",
       "    </tr>\n",
       "    <tr>\n",
       "      <th>64483</th>\n",
       "      <td>527394</td>\n",
       "      <td>2018-03-14 13:55:15</td>\n",
       "      <td>161.00</td>\n",
       "      <td>161.00</td>\n",
       "      <td>179.00</td>\n",
       "      <td>0.00</td>\n",
       "      <td>18.00</td>\n",
       "      <td>Place Order</td>\n",
       "      <td>10.06</td>\n",
       "    </tr>\n",
       "    <tr>\n",
       "      <th>64484</th>\n",
       "      <td>527396</td>\n",
       "      <td>2018-03-14 13:55:44</td>\n",
       "      <td>141.58</td>\n",
       "      <td>141.58</td>\n",
       "      <td>215.98</td>\n",
       "      <td>0.00</td>\n",
       "      <td>74.40</td>\n",
       "      <td>Place Order</td>\n",
       "      <td>34.45</td>\n",
       "    </tr>\n",
       "    <tr>\n",
       "      <th>64485</th>\n",
       "      <td>527397</td>\n",
       "      <td>2018-03-14 13:56:38</td>\n",
       "      <td>42.99</td>\n",
       "      <td>42.99</td>\n",
       "      <td>49.95</td>\n",
       "      <td>0.00</td>\n",
       "      <td>6.96</td>\n",
       "      <td>Place Order</td>\n",
       "      <td>13.93</td>\n",
       "    </tr>\n",
       "    <tr>\n",
       "      <th>64486</th>\n",
       "      <td>527401</td>\n",
       "      <td>2018-03-14 13:58:36</td>\n",
       "      <td>13.99</td>\n",
       "      <td>18.98</td>\n",
       "      <td>35.00</td>\n",
       "      <td>4.99</td>\n",
       "      <td>21.01</td>\n",
       "      <td>Place Order</td>\n",
       "      <td>60.03</td>\n",
       "    </tr>\n",
       "  </tbody>\n",
       "</table>\n",
       "<p>63141 rows × 9 columns</p>\n",
       "</div>"
      ],
      "text/plain": [
       "       order_id        created_date  unit_price_total  total_paid  price  \\\n",
       "0        241423 2017-11-06 13:10:02            129.16      136.15 139.99   \n",
       "1        242832 2017-12-31 17:40:03             10.77       15.76  17.99   \n",
       "2        243330 2017-02-16 10:59:38             77.99       84.98  99.99   \n",
       "3        245275 2017-06-28 11:35:37            149.00      149.00 179.00   \n",
       "4        245595 2017-01-21 12:52:47            105.98      112.97 103.95   \n",
       "...         ...                 ...               ...         ...    ...   \n",
       "64482    527386 2018-03-14 13:49:48            161.00      161.00 179.00   \n",
       "64483    527394 2018-03-14 13:55:15            161.00      161.00 179.00   \n",
       "64484    527396 2018-03-14 13:55:44            141.58      141.58 215.98   \n",
       "64485    527397 2018-03-14 13:56:38             42.99       42.99  49.95   \n",
       "64486    527401 2018-03-14 13:58:36             13.99       18.98  35.00   \n",
       "\n",
       "       diff  discounts        state  discounts_percent  \n",
       "0      6.99      10.83    Completed               7.74  \n",
       "1      4.99       7.22    Completed              40.13  \n",
       "2      6.99      22.00    Completed              22.00  \n",
       "3      0.00      30.00    Completed              16.76  \n",
       "4      6.99      50.96    Completed              49.02  \n",
       "...     ...        ...          ...                ...  \n",
       "64482  0.00      18.00  Place Order              10.06  \n",
       "64483  0.00      18.00  Place Order              10.06  \n",
       "64484  0.00      74.40  Place Order              34.45  \n",
       "64485  0.00       6.96  Place Order              13.93  \n",
       "64486  4.99      21.01  Place Order              60.03  \n",
       "\n",
       "[63141 rows x 9 columns]"
      ]
     },
     "execution_count": 83,
     "metadata": {},
     "output_type": "execute_result"
    }
   ],
   "source": [
    "new_master"
   ]
  },
  {
   "cell_type": "code",
   "execution_count": 84,
   "id": "2eb7446e",
   "metadata": {},
   "outputs": [],
   "source": [
    "# Assuming ol_products_full and new_master are your DataFrames\n",
    "ol_products_full.to_csv('ol_products_full.csv', index=False)\n",
    "new_master.to_csv('new_master.csv', index=False)\n"
   ]
  },
  {
   "cell_type": "code",
   "execution_count": 85,
   "id": "9e5b7f7a",
   "metadata": {},
   "outputs": [
    {
     "name": "stdout",
     "output_type": "stream",
     "text": [
      "Number of products being discounted: 74074\n"
     ]
    }
   ],
   "source": [
    "# Count the number of products being discounted\n",
    "discounted_products_count = ol_products_full[ol_products_full['dis_percent'] > 0].shape[0]\n",
    "\n",
    "print(\"Number of products being discounted:\", discounted_products_count)\n"
   ]
  },
  {
   "cell_type": "code",
   "execution_count": 86,
   "id": "93b3c7e1",
   "metadata": {},
   "outputs": [
    {
     "data": {
      "text/html": [
       "<div>\n",
       "<style scoped>\n",
       "    .dataframe tbody tr th:only-of-type {\n",
       "        vertical-align: middle;\n",
       "    }\n",
       "\n",
       "    .dataframe tbody tr th {\n",
       "        vertical-align: top;\n",
       "    }\n",
       "\n",
       "    .dataframe thead th {\n",
       "        text-align: right;\n",
       "    }\n",
       "</style>\n",
       "<table border=\"1\" class=\"dataframe\">\n",
       "  <thead>\n",
       "    <tr style=\"text-align: right;\">\n",
       "      <th></th>\n",
       "      <th>id</th>\n",
       "      <th>id_order</th>\n",
       "      <th>product_quantity</th>\n",
       "      <th>sku</th>\n",
       "      <th>unit_price</th>\n",
       "      <th>date</th>\n",
       "      <th>corrupted</th>\n",
       "      <th>unit_price_total</th>\n",
       "      <th>name</th>\n",
       "      <th>desc</th>\n",
       "      <th>price</th>\n",
       "      <th>discounts</th>\n",
       "      <th>dis_percent</th>\n",
       "      <th>symbol</th>\n",
       "    </tr>\n",
       "  </thead>\n",
       "  <tbody>\n",
       "    <tr>\n",
       "      <th>76100</th>\n",
       "      <td>1615825</td>\n",
       "      <td>512451</td>\n",
       "      <td>5</td>\n",
       "      <td>MOP0107</td>\n",
       "      <td>1.60</td>\n",
       "      <td>2018-02-16 08:35:43</td>\n",
       "      <td>False</td>\n",
       "      <td>8.00</td>\n",
       "      <td>Mophie Powerstation 4000mAh Battery Plus Mini ...</td>\n",
       "      <td>external battery capacity 4000mAh output volta...</td>\n",
       "      <td>69.95</td>\n",
       "      <td>68.35</td>\n",
       "      <td>97.71</td>\n",
       "      <td>MOP</td>\n",
       "    </tr>\n",
       "    <tr>\n",
       "      <th>76120</th>\n",
       "      <td>1615921</td>\n",
       "      <td>512498</td>\n",
       "      <td>5</td>\n",
       "      <td>MOP0107</td>\n",
       "      <td>1.60</td>\n",
       "      <td>2018-02-16 08:54:42</td>\n",
       "      <td>False</td>\n",
       "      <td>8.00</td>\n",
       "      <td>Mophie Powerstation 4000mAh Battery Plus Mini ...</td>\n",
       "      <td>external battery capacity 4000mAh output volta...</td>\n",
       "      <td>69.95</td>\n",
       "      <td>68.35</td>\n",
       "      <td>97.71</td>\n",
       "      <td>MOP</td>\n",
       "    </tr>\n",
       "  </tbody>\n",
       "</table>\n",
       "</div>"
      ],
      "text/plain": [
       "            id  id_order  product_quantity      sku  unit_price  \\\n",
       "76100  1615825    512451                 5  MOP0107        1.60   \n",
       "76120  1615921    512498                 5  MOP0107        1.60   \n",
       "\n",
       "                     date  corrupted  unit_price_total  \\\n",
       "76100 2018-02-16 08:35:43      False              8.00   \n",
       "76120 2018-02-16 08:54:42      False              8.00   \n",
       "\n",
       "                                                    name  \\\n",
       "76100  Mophie Powerstation 4000mAh Battery Plus Mini ...   \n",
       "76120  Mophie Powerstation 4000mAh Battery Plus Mini ...   \n",
       "\n",
       "                                                    desc  price  discounts  \\\n",
       "76100  external battery capacity 4000mAh output volta...  69.95      68.35   \n",
       "76120  external battery capacity 4000mAh output volta...  69.95      68.35   \n",
       "\n",
       "       dis_percent symbol  \n",
       "76100        97.71    MOP  \n",
       "76120        97.71    MOP  "
      ]
     },
     "execution_count": 86,
     "metadata": {},
     "output_type": "execute_result"
    }
   ],
   "source": [
    "#How big are the offered discounts as a percentage of the product prices?\n",
    "ol_products.loc[ol_products[\"dis_percent\"]==97.71265189421015]"
   ]
  },
  {
   "cell_type": "code",
   "execution_count": 87,
   "id": "2b4e5506",
   "metadata": {},
   "outputs": [
    {
     "data": {
      "image/png": "[encoded data removed]",
      "text/plain": [
       "<Figure size 1000x600 with 1 Axes>"
      ]
     },
     "metadata": {},
     "output_type": "display_data"
    }
   ],
   "source": [
    "# How do seasonality and special dates (Christmas, Black Friday) affect sales?\n",
    "# Extract month and year from the 'created_date' column\n",
    "new_master['month'] = new_master['created_date'].dt.month\n",
    "new_master['year'] = new_master['created_date'].dt.year\n",
    "\n",
    "# Group by month and year, calculate total revenue\n",
    "monthly_revenue = new_master.groupby(['year', 'month'])['total_paid'].sum().reset_index()\n",
    "\n",
    "# Convert year and month back to datetime format for plotting\n",
    "monthly_revenue['date'] = pd.to_datetime(monthly_revenue[['year', 'month']].assign(day=1))\n",
    "\n",
    "# Plot monthly revenue trends\n",
    "plt.figure(figsize=(10, 6))\n",
    "plt.plot(monthly_revenue['date'], monthly_revenue['total_paid'], marker='o', linestyle='-')\n",
    "plt.title('Monthly Revenue Trends')\n",
    "plt.xlabel('Date')\n",
    "plt.ylabel('Total Revenue')\n",
    "plt.xticks(rotation=45)\n",
    "plt.grid(True)\n",
    "plt.show()"
   ]
  },
  {
   "cell_type": "code",
   "execution_count": 134,
   "id": "b57b8418",
   "metadata": {},
   "outputs": [
    {
     "data": {
      "image/png": "[encoded data removed]",
      "text/plain": [
       "<Figure size 1000x600 with 2 Axes>"
      ]
     },
     "metadata": {},
     "output_type": "display_data"
    }
   ],
   "source": [
    "# Group by month and year, calculate total revenue and average price\n",
    "monthly_revenue = new_master.groupby(['year', 'month']).agg({'total_paid': 'mean', 'price': 'mean'}).reset_index()\n",
    "\n",
    "# Convert year and month back to datetime format for plotting\n",
    "monthly_revenue['date'] = pd.to_datetime(monthly_revenue[['year', 'month']].assign(day=1))\n",
    "\n",
    "# Plot monthly revenue trends with dual y-axis\n",
    "fig, ax1 = plt.subplots(figsize=(10, 6))\n",
    "\n",
    "color = 'tab:red'\n",
    "ax1.set_xlabel('Date')\n",
    "ax1.set_ylabel('Unit Price', color=color)\n",
    "ax1.plot(monthly_revenue['date'], monthly_revenue['total_paid'], color=color, marker='o', linestyle='-')\n",
    "ax1.tick_params(axis='y', labelcolor=color)\n",
    "\n",
    "ax2 = ax1.twinx()  \n",
    "color = 'tab:blue'\n",
    "ax2.set_ylabel('Price', color=color)  \n",
    "ax2.plot(monthly_revenue['date'], monthly_revenue['price'], color=color, marker='o', linestyle='-')\n",
    "ax2.tick_params(axis='y', labelcolor=color)\n",
    "\n",
    "fig.tight_layout()  \n",
    "plt.title('Monthly Revenue and Price Trends')\n",
    "plt.xticks(rotation=45)\n",
    "plt.grid(True)\n",
    "plt.show()"
   ]
  },
  {
   "cell_type": "code",
   "execution_count": 156,
   "id": "8fc680e9",
   "metadata": {},
   "outputs": [
    {
     "data": {
      "image/png": "[encoded data removed]",
      "text/plain": [
       "<Figure size 1000x600 with 1 Axes>"
      ]
     },
     "metadata": {},
     "output_type": "display_data"
    }
   ],
   "source": [
    "# Group by month and year, calculate total revenue and average price\n",
    "monthly_revenue = new_master.groupby(['year', 'month']).agg({'total_paid': 'sum', 'price': 'sum', 'discounts': 'sum'}).reset_index()\n",
    "\n",
    "# Convert year and month back to datetime format for plotting\n",
    "monthly_revenue['date'] = pd.to_datetime(monthly_revenue[['year', 'month']].assign(day=1))\n",
    "\n",
    "# Plot monthly revenue trends with dual y-axis\n",
    "fig, ax1 = plt.subplots(figsize=(10, 6))\n",
    "\n",
    "color = 'tab:blue'\n",
    "ax1.set_xlabel('Date')\n",
    "ax1.set_ylabel('Total Revenue in EUR Mil.', color=color)\n",
    "ax1.plot(monthly_revenue['date'], monthly_revenue['total_paid'], color=color, marker='o', linestyle='-', label='Total Revenue')\n",
    "ax1.tick_params(axis='y', labelcolor=color)\n",
    "\n",
    "# Plot total discounts\n",
    "ax1.plot(monthly_revenue['date'], monthly_revenue['discounts'], color='tab:red', marker='o', linestyle='-', label='Total Discount Applied')\n",
    "ax1.tick_params(axis='y', labelcolor=color)\n",
    "\n",
    "ax1.legend(loc='upper left')\n",
    "\n",
    "fig.tight_layout()  \n",
    "\n",
    "plt.xticks(rotation=45)\n",
    "plt.grid(axis='y')\n",
    "plt.show()\n"
   ]
  },
  {
   "cell_type": "code",
   "execution_count": 130,
   "id": "d82a41b0",
   "metadata": {},
   "outputs": [
    {
     "data": {
      "image/png": "[encoded data removed]",
      "text/plain": [
       "<Figure size 1000x600 with 2 Axes>"
      ]
     },
     "metadata": {},
     "output_type": "display_data"
    }
   ],
   "source": []
  },
  {
   "cell_type": "code",
   "execution_count": 89,
   "id": "ca9c8426",
   "metadata": {},
   "outputs": [],
   "source": [
    "#How could data collection be improved?\n",
    "# Data collection could be improved if every product could be categorised so we can have a vague understanding quickly to what type of products are actually selling more or less"
   ]
  },
  {
   "cell_type": "code",
   "execution_count": 90,
   "id": "ae29d58f",
   "metadata": {},
   "outputs": [],
   "source": [
    "#What is the time period that the dataset covers?\n",
    "# The dataset covers Jan 2017 until March 2018"
   ]
  },
  {
   "cell_type": "code",
   "execution_count": 91,
   "id": "11da2cd7",
   "metadata": {},
   "outputs": [
    {
     "data": {
      "text/plain": [
       "13693521.02"
      ]
     },
     "execution_count": 91,
     "metadata": {},
     "output_type": "execute_result"
    }
   ],
   "source": [
    "# What is the overall revenue for that time?\n",
    "new_master['total_paid'].sum()"
   ]
  },
  {
   "cell_type": "code",
   "execution_count": 92,
   "id": "d6ffb7fb",
   "metadata": {},
   "outputs": [
    {
     "data": {
      "text/plain": [
       "sku\n",
       "8MO0001-A     1\n",
       "8MO0003-A     1\n",
       "8MO0007       7\n",
       "8MO0008      11\n",
       "8MO0009       5\n",
       "             ..\n",
       "ZAG0041       1\n",
       "ZAG0042       1\n",
       "ZEP0007       2\n",
       "ZEP0008       1\n",
       "par0072       3\n",
       "Name: product_quantity, Length: 5418, dtype: int64"
      ]
     },
     "execution_count": 92,
     "metadata": {},
     "output_type": "execute_result"
    }
   ],
   "source": [
    "ol_products_full.groupby('sku')['product_quantity'].sum()"
   ]
  },
  {
   "cell_type": "code",
   "execution_count": 93,
   "id": "2710953c",
   "metadata": {},
   "outputs": [
    {
     "name": "stdout",
     "output_type": "stream",
     "text": [
      "Top 5 Most Sold Products:\n",
      "          sku  product_quantity\n",
      "465   APP1190              1756\n",
      "368   APP0698              1059\n",
      "2325  KIN0137               808\n",
      "5221  WDT0183               749\n",
      "388   APP0927               704\n"
     ]
    }
   ],
   "source": [
    "# Group by product SKU and calculate the total quantity sold\n",
    "most_sold_products = ol_products_full.groupby('sku')['product_quantity'].sum().reset_index()\n",
    "\n",
    "# Sort by total quantity sold in descending order\n",
    "most_sold_products = most_sold_products.sort_values(by='product_quantity', ascending=False)\n",
    "\n",
    "# Display the top 5 most sold products\n",
    "top_5_most_sold_products = most_sold_products.head(5)\n",
    "print(\"Top 5 Most Sold Products:\")\n",
    "print(top_5_most_sold_products)"
   ]
  },
  {
   "cell_type": "code",
   "execution_count": 94,
   "id": "1f9768e9",
   "metadata": {},
   "outputs": [
    {
     "name": "stdout",
     "output_type": "stream",
     "text": [
      "Top 5 Products Generating the Most Revenue:\n",
      "          sku  total_revenue\n",
      "869   APP2485      351125.47\n",
      "860   APP2477      244733.31\n",
      "867   APP2483      240197.59\n",
      "759   APP2072      205899.45\n",
      "2544  LGE0044      189854.17\n"
     ]
    }
   ],
   "source": [
    "# Calculate the total revenue generated by each product\n",
    "ol_products_full['total_revenue'] = ol_products_full['unit_price_total']\n",
    "\n",
    "# Group by product SKU and calculate the total revenue\n",
    "top_revenue_products = ol_products_full.groupby('sku')['total_revenue'].sum().reset_index()\n",
    "\n",
    "# Sort by total revenue in descending order\n",
    "top_revenue_products = top_revenue_products.sort_values(by='total_revenue', ascending=False)\n",
    "\n",
    "# Display the top 5 products generating the most revenue\n",
    "top_5_revenue_products = top_revenue_products.head(5)\n",
    "print(\"Top 5 Products Generating the Most Revenue:\")\n",
    "print(top_5_revenue_products)"
   ]
  },
  {
   "cell_type": "code",
   "execution_count": 104,
   "id": "c1ccfab9",
   "metadata": {},
   "outputs": [
    {
     "name": "stdout",
     "output_type": "stream",
     "text": [
      "Top 5 Brands Selling the Most Quantity:\n",
      "               brand  product_quantity\n",
      "5              Apple             20770\n",
      "100              OWC              5391\n",
      "163  Western Digital              3688\n",
      "67             LaCie              3150\n",
      "9             Belkin              3067\n"
     ]
    }
   ],
   "source": [
    "# Group by brand and calculate the total quantity sold\n",
    "top_quantity_brands = ol_products_full.groupby('brand')[['product_quantity']].sum().reset_index()\n",
    "\n",
    "# Sort by total quantity sold in descending order\n",
    "top_quantity_brands = top_quantity_brands.sort_values(by='product_quantity', ascending=False)\n",
    "\n",
    "# Display the top 5 brands selling the most quantity\n",
    "top_5_quantity_brands = top_quantity_brands.head(5)\n",
    "print(\"Top 5 Brands Selling the Most Quantity:\")\n",
    "print(top_5_quantity_brands)"
   ]
  },
  {
   "cell_type": "code",
   "execution_count": 96,
   "id": "5ddc31f3",
   "metadata": {},
   "outputs": [
    {
     "data": {
      "image/png": "[encoded data removed]",
      "text/plain": [
       "<Figure size 1000x600 with 2 Axes>"
      ]
     },
     "metadata": {},
     "output_type": "display_data"
    }
   ],
   "source": [
    "# Filter the dataframe to include only rows where the brand is \"Apple\"\n",
    "apple_products = ol_products_full[ol_products_full['brand'] == 'Apple']\n",
    "\n",
    "# Convert the date column to datetime format\n",
    "apple_products['date'] = pd.to_datetime(apple_products['date'])\n",
    "\n",
    "# Group by date and calculate the average price and total unit price\n",
    "apple_daily_data = apple_products.groupby('date').agg({'price': 'sum', 'unit_price_total': 'sum'}).reset_index()\n",
    "\n",
    "# Plot the dual-axis graph\n",
    "fig, ax1 = plt.subplots(figsize=(10, 6))\n",
    "\n",
    "color = 'tab:red'\n",
    "ax1.set_xlabel('Date')\n",
    "ax1.set_ylabel('Price', color=color)\n",
    "ax1.plot(apple_daily_data['date'], apple_daily_data['price'], color=color, marker='o', linestyle='-')\n",
    "ax1.tick_params(axis='y', labelcolor=color)\n",
    "\n",
    "ax2 = ax1.twinx()  \n",
    "color = 'tab:blue'\n",
    "ax2.set_ylabel('Total Unit Price', color=color)  \n",
    "ax2.plot(apple_daily_data['date'], apple_daily_data['unit_price_total'], color=color, marker='o', linestyle='-')\n",
    "ax2.tick_params(axis='y', labelcolor=color)\n",
    "\n",
    "fig.tight_layout()  \n",
    "plt.title('Apple: Average Price vs. Total Unit Price over Time')\n",
    "plt.xticks(rotation=45)\n",
    "plt.grid(True)\n",
    "plt.show()"
   ]
  },
  {
   "cell_type": "code",
   "execution_count": 138,
   "id": "f14e9a7c",
   "metadata": {
    "scrolled": false
   },
   "outputs": [
    {
     "data": {
      "image/png": "[encoded data removed]",
      "text/plain": [
       "<Figure size 1000x600 with 2 Axes>"
      ]
     },
     "metadata": {},
     "output_type": "display_data"
    }
   ],
   "source": [
    "import pandas as pd\n",
    "import matplotlib.pyplot as plt\n",
    "\n",
    "# Assuming ol_products is your DataFrame containing the data\n",
    "# Replace it with your actual DataFrame if different\n",
    "ol_products_filtered = ol_products.loc[ol_products[\"sku\"] == \"APP1651\"]\n",
    "\n",
    "# Convert 'date' column to datetime if it's not already\n",
    "ol_products_filtered['date'] = pd.to_datetime(ol_products_filtered['date'])\n",
    "\n",
    "# Aggregate data by date and calculate mean unit price and mean price for each date\n",
    "mean_unit_price_by_date = ol_products_filtered.groupby('date')['unit_price'].mean()\n",
    "mean_price_by_date = ol_products_filtered.groupby('date')['price'].mean()\n",
    "\n",
    "# Plot the data\n",
    "fig, ax1 = plt.subplots(figsize=(10, 6))\n",
    "\n",
    "# Plotting mean unit price on the first y-axis\n",
    "color = 'tab:blue'\n",
    "ax1.set_xlabel('Date')\n",
    "ax1.set_ylabel('Value in EUR', color=color)\n",
    "ax1.plot(mean_unit_price_by_date.index, mean_unit_price_by_date.values, color=color)\n",
    "ax1.tick_params(axis='y', labelcolor=color)\n",
    "\n",
    "# Creating a secondary y-axis for mean price\n",
    "ax2 = ax1.twinx()\n",
    "color = 'tab:red'\n",
    "ax2.set_ylabel('Product Price', color=color)\n",
    "ax2.plot(mean_price_by_date.index, mean_price_by_date.values, color=color)\n",
    "ax2.tick_params(axis='y', labelcolor=color)\n",
    "\n",
    "fig.tight_layout()\n",
    "plt.title('Standard Price vs Depreciation for Iphone 7')\n",
    "plt.grid(axis='y')\n",
    "plt.show()\n",
    "\n"
   ]
  },
  {
   "cell_type": "code",
   "execution_count": 143,
   "id": "91d2ea86",
   "metadata": {
    "scrolled": false
   },
   "outputs": [
    {
     "data": {
      "image/png": "[encoded data removed]",
      "text/plain": [
       "<Figure size 1000x600 with 2 Axes>"
      ]
     },
     "metadata": {},
     "output_type": "display_data"
    }
   ],
   "source": [
    "import pandas as pd\n",
    "import matplotlib.pyplot as plt\n",
    "\n",
    "# Assuming ol_products is your DataFrame containing the data\n",
    "# Replace it with your actual DataFrame if different\n",
    "ol_products_filtered = ol_products.loc[ol_products[\"sku\"] == \"APP1651\"]\n",
    "\n",
    "# Convert 'date' column to datetime if it's not already\n",
    "ol_products_filtered['date'] = pd.to_datetime(ol_products_filtered['date'])\n",
    "\n",
    "# Aggregate data by date and calculate mean unit price and mean price for each date\n",
    "mean_unit_price_by_date = ol_products_filtered.groupby('date')['unit_price'].mean()\n",
    "mean_price_by_date = ol_products_filtered.groupby('date')['price'].mean()\n",
    "\n",
    "# Plot the data\n",
    "fig, ax1 = plt.subplots(figsize=(10, 6))\n",
    "\n",
    "# Plotting mean unit price on the first y-axis\n",
    "color = 'tab:blue'\n",
    "ax1.set_xlabel('Date')\n",
    "ax1.set_ylabel('Value in EUR', color=color)\n",
    "ax1.plot(mean_unit_price_by_date.index, mean_unit_price_by_date.values, color=color, label='Sold Price')\n",
    "ax1.tick_params(axis='y', labelcolor=color)\n",
    "\n",
    "# Plotting mean price on the secondary y-axis\n",
    "ax2 = ax1.twinx()\n",
    "color = 'tab:red'\n",
    "ax2.plot(mean_price_by_date.index, mean_price_by_date.values, color=color, label='Non-Discount Price')\n",
    "ax2.tick_params(axis='y', labelcolor=color)\n",
    "\n",
    "# Hide the y-axis on the right\n",
    "ax2.yaxis.set_major_formatter(plt.NullFormatter())\n",
    "\n",
    "# Moving the legend to the top right corner\n",
    "lines1, labels1 = ax1.get_legend_handles_labels()\n",
    "lines2, labels2 = ax2.get_legend_handles_labels()\n",
    "ax1.legend(lines1 + lines2, labels1 + labels2, loc='upper right')\n",
    "\n",
    "fig.tight_layout()\n",
    "plt.title('Standard Price vs Depreciation for Iphone 7')\n",
    "plt.grid(axis='y')\n",
    "plt.show()\n"
   ]
  },
  {
   "cell_type": "code",
   "execution_count": 157,
   "id": "bd6751bd",
   "metadata": {},
   "outputs": [
    {
     "data": {
      "image/png": "[encoded data removed]",
      "text/plain": [
       "<Figure size 1000x600 with 1 Axes>"
      ]
     },
     "metadata": {},
     "output_type": "display_data"
    }
   ],
   "source": [
    "import pandas as pd\n",
    "import matplotlib.pyplot as plt\n",
    "\n",
    "# Assuming ol_products is your DataFrame containing the data\n",
    "# Replace it with your actual DataFrame if different\n",
    "ol_products_filtered = ol_products.loc[ol_products[\"sku\"] == \"APP1651\"]\n",
    "\n",
    "# Convert 'date' column to datetime if it's not already\n",
    "ol_products_filtered['date'] = pd.to_datetime(ol_products_filtered['date'])\n",
    "\n",
    "# Aggregate data by date and calculate mean unit price and mean price for each date\n",
    "mean_unit_price_by_date = ol_products_filtered.groupby('date')['unit_price'].mean()\n",
    "mean_price_by_date = ol_products_filtered.groupby('date')['price'].mean()\n",
    "\n",
    "# Plot the data\n",
    "fig, ax1 = plt.subplots(figsize=(10, 6))\n",
    "\n",
    "# Plotting mean unit price on the first y-axis\n",
    "color = 'tab:blue'\n",
    "ax1.set_xlabel('Date')\n",
    "ax1.set_ylabel('Value in EUR', color='black')\n",
    "ax1.plot(mean_unit_price_by_date.index, mean_unit_price_by_date.values, color=color, label='Sold Price')\n",
    "ax1.tick_params(axis='y', labelcolor=\"black\")\n",
    "\n",
    "# Draw a horizontal line at y=749\n",
    "ax1.axhline(y=749, color='tab:red', linestyle='--', label='Non-Discount Price')\n",
    "\n",
    "# Moving the legend to the top right corner\n",
    "ax1.legend(loc='upper right')\n",
    "\n",
    "fig.tight_layout()\n",
    "plt.title('Standard Price vs Depreciation for Iphone 7')\n",
    "plt.grid(axis='y')\n",
    "plt.show()\n"
   ]
  },
  {
   "cell_type": "code",
   "execution_count": 158,
   "id": "3590fd34",
   "metadata": {},
   "outputs": [
    {
     "data": {
      "text/plain": [
       "Timestamp('2018-03-14 13:58:36')"
      ]
     },
     "execution_count": 158,
     "metadata": {},
     "output_type": "execute_result"
    }
   ],
   "source": [
    "ol_products[\"date\"].max()"
   ]
  },
  {
   "cell_type": "code",
   "execution_count": null,
   "id": "fd74bf2f",
   "metadata": {},
   "outputs": [],
   "source": []
  }
 ],
 "metadata": {
  "kernelspec": {
   "display_name": "Python 3 (ipykernel)",
   "language": "python",
   "name": "python3"
  },
  "language_info": {
   "codemirror_mode": {
    "name": "ipython",
    "version": 3
   },
   "file_extension": ".py",
   "mimetype": "text/x-python",
   "name": "python",
   "nbconvert_exporter": "python",
   "pygments_lexer": "ipython3",
   "version": "3.11.5"
  }
 },
 "nbformat": 4,
 "nbformat_minor": 5
}
